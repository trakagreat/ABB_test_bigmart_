{
 "cells": [
  {
   "cell_type": "code",
   "execution_count": 1,
   "id": "f5736996",
   "metadata": {},
   "outputs": [],
   "source": [
    "import pandas as pd\n",
    "import numpy as np\n",
    "import matplotlib.pyplot as plt\n",
    "import seaborn as sns\n",
    "from sklearn.linear_model import LinearRegression\n",
    "from sklearn.ensemble import RandomForestRegressor\n",
    "from sklearn.preprocessing import LabelEncoder\n",
    "from sklearn.model_selection import train_test_split, cross_val_score\n",
    "from sklearn.metrics import mean_squared_error, r2_score\n",
    "from xgboost import XGBRegressor\n",
    "from sklearn.linear_model import Ridge, Lasso, ElasticNet\n",
    "from sklearn.tree import DecisionTreeRegressor\n",
    "from sklearn.ensemble import GradientBoostingRegressor, AdaBoostRegressor, ExtraTreesRegressor\n",
    "from sklearn.neighbors import KNeighborsRegressor\n",
    "from sklearn.svm import SVR"
   ]
  },
  {
   "cell_type": "code",
   "execution_count": 2,
   "id": "d4547020",
   "metadata": {},
   "outputs": [],
   "source": [
    "## Load the dataset"
   ]
  },
  {
   "cell_type": "code",
   "execution_count": 3,
   "id": "b539dcf0",
   "metadata": {},
   "outputs": [
    {
     "data": {
      "application/vnd.microsoft.datawrangler.viewer.v0+json": {
       "columns": [
        {
         "name": "index",
         "rawType": "int64",
         "type": "integer"
        },
        {
         "name": "Item_Identifier",
         "rawType": "object",
         "type": "string"
        },
        {
         "name": "Item_Weight",
         "rawType": "float64",
         "type": "float"
        },
        {
         "name": "Item_Fat_Content",
         "rawType": "object",
         "type": "string"
        },
        {
         "name": "Item_Visibility",
         "rawType": "float64",
         "type": "float"
        },
        {
         "name": "Item_Type",
         "rawType": "object",
         "type": "string"
        },
        {
         "name": "Item_MRP",
         "rawType": "float64",
         "type": "float"
        },
        {
         "name": "Outlet_Identifier",
         "rawType": "object",
         "type": "string"
        },
        {
         "name": "Outlet_Establishment_Year",
         "rawType": "int64",
         "type": "integer"
        },
        {
         "name": "Outlet_Size",
         "rawType": "object",
         "type": "unknown"
        },
        {
         "name": "Outlet_Location_Type",
         "rawType": "object",
         "type": "string"
        },
        {
         "name": "Outlet_Type",
         "rawType": "object",
         "type": "string"
        },
        {
         "name": "Item_Outlet_Sales",
         "rawType": "float64",
         "type": "float"
        }
       ],
       "ref": "2a330a2e-1f26-4ceb-94e2-1c67b535e078",
       "rows": [
        [
         "0",
         "FDA15",
         "9.3",
         "Low Fat",
         "0.016047301",
         "Dairy",
         "249.8092",
         "OUT049",
         "1999",
         "Medium",
         "Tier 1",
         "Supermarket Type1",
         "3735.138"
        ],
        [
         "1",
         "DRC01",
         "5.92",
         "Regular",
         "0.019278216",
         "Soft Drinks",
         "48.2692",
         "OUT018",
         "2009",
         "Medium",
         "Tier 3",
         "Supermarket Type2",
         "443.4228"
        ],
        [
         "2",
         "FDN15",
         "17.5",
         "Low Fat",
         "0.016760075",
         "Meat",
         "141.618",
         "OUT049",
         "1999",
         "Medium",
         "Tier 1",
         "Supermarket Type1",
         "2097.27"
        ],
        [
         "3",
         "FDX07",
         "19.2",
         "Regular",
         "0.0",
         "Fruits and Vegetables",
         "182.095",
         "OUT010",
         "1998",
         null,
         "Tier 3",
         "Grocery Store",
         "732.38"
        ],
        [
         "4",
         "NCD19",
         "8.93",
         "Low Fat",
         "0.0",
         "Household",
         "53.8614",
         "OUT013",
         "1987",
         "High",
         "Tier 3",
         "Supermarket Type1",
         "994.7052"
        ]
       ],
       "shape": {
        "columns": 12,
        "rows": 5
       }
      },
      "text/html": [
       "<div>\n",
       "<style scoped>\n",
       "    .dataframe tbody tr th:only-of-type {\n",
       "        vertical-align: middle;\n",
       "    }\n",
       "\n",
       "    .dataframe tbody tr th {\n",
       "        vertical-align: top;\n",
       "    }\n",
       "\n",
       "    .dataframe thead th {\n",
       "        text-align: right;\n",
       "    }\n",
       "</style>\n",
       "<table border=\"1\" class=\"dataframe\">\n",
       "  <thead>\n",
       "    <tr style=\"text-align: right;\">\n",
       "      <th></th>\n",
       "      <th>Item_Identifier</th>\n",
       "      <th>Item_Weight</th>\n",
       "      <th>Item_Fat_Content</th>\n",
       "      <th>Item_Visibility</th>\n",
       "      <th>Item_Type</th>\n",
       "      <th>Item_MRP</th>\n",
       "      <th>Outlet_Identifier</th>\n",
       "      <th>Outlet_Establishment_Year</th>\n",
       "      <th>Outlet_Size</th>\n",
       "      <th>Outlet_Location_Type</th>\n",
       "      <th>Outlet_Type</th>\n",
       "      <th>Item_Outlet_Sales</th>\n",
       "    </tr>\n",
       "  </thead>\n",
       "  <tbody>\n",
       "    <tr>\n",
       "      <th>0</th>\n",
       "      <td>FDA15</td>\n",
       "      <td>9.30</td>\n",
       "      <td>Low Fat</td>\n",
       "      <td>0.016047</td>\n",
       "      <td>Dairy</td>\n",
       "      <td>249.8092</td>\n",
       "      <td>OUT049</td>\n",
       "      <td>1999</td>\n",
       "      <td>Medium</td>\n",
       "      <td>Tier 1</td>\n",
       "      <td>Supermarket Type1</td>\n",
       "      <td>3735.1380</td>\n",
       "    </tr>\n",
       "    <tr>\n",
       "      <th>1</th>\n",
       "      <td>DRC01</td>\n",
       "      <td>5.92</td>\n",
       "      <td>Regular</td>\n",
       "      <td>0.019278</td>\n",
       "      <td>Soft Drinks</td>\n",
       "      <td>48.2692</td>\n",
       "      <td>OUT018</td>\n",
       "      <td>2009</td>\n",
       "      <td>Medium</td>\n",
       "      <td>Tier 3</td>\n",
       "      <td>Supermarket Type2</td>\n",
       "      <td>443.4228</td>\n",
       "    </tr>\n",
       "    <tr>\n",
       "      <th>2</th>\n",
       "      <td>FDN15</td>\n",
       "      <td>17.50</td>\n",
       "      <td>Low Fat</td>\n",
       "      <td>0.016760</td>\n",
       "      <td>Meat</td>\n",
       "      <td>141.6180</td>\n",
       "      <td>OUT049</td>\n",
       "      <td>1999</td>\n",
       "      <td>Medium</td>\n",
       "      <td>Tier 1</td>\n",
       "      <td>Supermarket Type1</td>\n",
       "      <td>2097.2700</td>\n",
       "    </tr>\n",
       "    <tr>\n",
       "      <th>3</th>\n",
       "      <td>FDX07</td>\n",
       "      <td>19.20</td>\n",
       "      <td>Regular</td>\n",
       "      <td>0.000000</td>\n",
       "      <td>Fruits and Vegetables</td>\n",
       "      <td>182.0950</td>\n",
       "      <td>OUT010</td>\n",
       "      <td>1998</td>\n",
       "      <td>NaN</td>\n",
       "      <td>Tier 3</td>\n",
       "      <td>Grocery Store</td>\n",
       "      <td>732.3800</td>\n",
       "    </tr>\n",
       "    <tr>\n",
       "      <th>4</th>\n",
       "      <td>NCD19</td>\n",
       "      <td>8.93</td>\n",
       "      <td>Low Fat</td>\n",
       "      <td>0.000000</td>\n",
       "      <td>Household</td>\n",
       "      <td>53.8614</td>\n",
       "      <td>OUT013</td>\n",
       "      <td>1987</td>\n",
       "      <td>High</td>\n",
       "      <td>Tier 3</td>\n",
       "      <td>Supermarket Type1</td>\n",
       "      <td>994.7052</td>\n",
       "    </tr>\n",
       "  </tbody>\n",
       "</table>\n",
       "</div>"
      ],
      "text/plain": [
       "  Item_Identifier  Item_Weight Item_Fat_Content  Item_Visibility  \\\n",
       "0           FDA15         9.30          Low Fat         0.016047   \n",
       "1           DRC01         5.92          Regular         0.019278   \n",
       "2           FDN15        17.50          Low Fat         0.016760   \n",
       "3           FDX07        19.20          Regular         0.000000   \n",
       "4           NCD19         8.93          Low Fat         0.000000   \n",
       "\n",
       "               Item_Type  Item_MRP Outlet_Identifier  \\\n",
       "0                  Dairy  249.8092            OUT049   \n",
       "1            Soft Drinks   48.2692            OUT018   \n",
       "2                   Meat  141.6180            OUT049   \n",
       "3  Fruits and Vegetables  182.0950            OUT010   \n",
       "4              Household   53.8614            OUT013   \n",
       "\n",
       "   Outlet_Establishment_Year Outlet_Size Outlet_Location_Type  \\\n",
       "0                       1999      Medium               Tier 1   \n",
       "1                       2009      Medium               Tier 3   \n",
       "2                       1999      Medium               Tier 1   \n",
       "3                       1998         NaN               Tier 3   \n",
       "4                       1987        High               Tier 3   \n",
       "\n",
       "         Outlet_Type  Item_Outlet_Sales  \n",
       "0  Supermarket Type1          3735.1380  \n",
       "1  Supermarket Type2           443.4228  \n",
       "2  Supermarket Type1          2097.2700  \n",
       "3      Grocery Store           732.3800  \n",
       "4  Supermarket Type1           994.7052  "
      ]
     },
     "execution_count": 3,
     "metadata": {},
     "output_type": "execute_result"
    }
   ],
   "source": [
    "train = pd.read_csv(\"data/train_v9rqX0R.csv\", low_memory=False)\n",
    "test = pd.read_csv(\"data/test_AbJTz2l.csv\", low_memory=False)\n",
    "train.head()"
   ]
  },
  {
   "cell_type": "code",
   "execution_count": 4,
   "id": "37f4993b",
   "metadata": {},
   "outputs": [
    {
     "data": {
      "application/vnd.microsoft.datawrangler.viewer.v0+json": {
       "columns": [
        {
         "name": "index",
         "rawType": "int64",
         "type": "integer"
        },
        {
         "name": "Item_Identifier",
         "rawType": "object",
         "type": "string"
        },
        {
         "name": "Item_Weight",
         "rawType": "float64",
         "type": "float"
        },
        {
         "name": "Item_Fat_Content",
         "rawType": "object",
         "type": "string"
        },
        {
         "name": "Item_Visibility",
         "rawType": "float64",
         "type": "float"
        },
        {
         "name": "Item_Type",
         "rawType": "object",
         "type": "string"
        },
        {
         "name": "Item_MRP",
         "rawType": "float64",
         "type": "float"
        },
        {
         "name": "Outlet_Identifier",
         "rawType": "object",
         "type": "string"
        },
        {
         "name": "Outlet_Establishment_Year",
         "rawType": "int64",
         "type": "integer"
        },
        {
         "name": "Outlet_Size",
         "rawType": "object",
         "type": "unknown"
        },
        {
         "name": "Outlet_Location_Type",
         "rawType": "object",
         "type": "string"
        },
        {
         "name": "Outlet_Type",
         "rawType": "object",
         "type": "string"
        }
       ],
       "ref": "8372aea3-ba79-46d5-b157-06efb2caf937",
       "rows": [
        [
         "0",
         "FDW58",
         "20.75",
         "Low Fat",
         "0.007564836",
         "Snack Foods",
         "107.8622",
         "OUT049",
         "1999",
         "Medium",
         "Tier 1",
         "Supermarket Type1"
        ],
        [
         "1",
         "FDW14",
         "8.3",
         "reg",
         "0.038427677",
         "Dairy",
         "87.3198",
         "OUT017",
         "2007",
         null,
         "Tier 2",
         "Supermarket Type1"
        ],
        [
         "2",
         "NCN55",
         "14.6",
         "Low Fat",
         "0.099574908",
         "Others",
         "241.7538",
         "OUT010",
         "1998",
         null,
         "Tier 3",
         "Grocery Store"
        ],
        [
         "3",
         "FDQ58",
         "7.315",
         "Low Fat",
         "0.015388393",
         "Snack Foods",
         "155.034",
         "OUT017",
         "2007",
         null,
         "Tier 2",
         "Supermarket Type1"
        ],
        [
         "4",
         "FDY38",
         null,
         "Regular",
         "0.118599314",
         "Dairy",
         "234.23",
         "OUT027",
         "1985",
         "Medium",
         "Tier 3",
         "Supermarket Type3"
        ]
       ],
       "shape": {
        "columns": 11,
        "rows": 5
       }
      },
      "text/html": [
       "<div>\n",
       "<style scoped>\n",
       "    .dataframe tbody tr th:only-of-type {\n",
       "        vertical-align: middle;\n",
       "    }\n",
       "\n",
       "    .dataframe tbody tr th {\n",
       "        vertical-align: top;\n",
       "    }\n",
       "\n",
       "    .dataframe thead th {\n",
       "        text-align: right;\n",
       "    }\n",
       "</style>\n",
       "<table border=\"1\" class=\"dataframe\">\n",
       "  <thead>\n",
       "    <tr style=\"text-align: right;\">\n",
       "      <th></th>\n",
       "      <th>Item_Identifier</th>\n",
       "      <th>Item_Weight</th>\n",
       "      <th>Item_Fat_Content</th>\n",
       "      <th>Item_Visibility</th>\n",
       "      <th>Item_Type</th>\n",
       "      <th>Item_MRP</th>\n",
       "      <th>Outlet_Identifier</th>\n",
       "      <th>Outlet_Establishment_Year</th>\n",
       "      <th>Outlet_Size</th>\n",
       "      <th>Outlet_Location_Type</th>\n",
       "      <th>Outlet_Type</th>\n",
       "    </tr>\n",
       "  </thead>\n",
       "  <tbody>\n",
       "    <tr>\n",
       "      <th>0</th>\n",
       "      <td>FDW58</td>\n",
       "      <td>20.750</td>\n",
       "      <td>Low Fat</td>\n",
       "      <td>0.007565</td>\n",
       "      <td>Snack Foods</td>\n",
       "      <td>107.8622</td>\n",
       "      <td>OUT049</td>\n",
       "      <td>1999</td>\n",
       "      <td>Medium</td>\n",
       "      <td>Tier 1</td>\n",
       "      <td>Supermarket Type1</td>\n",
       "    </tr>\n",
       "    <tr>\n",
       "      <th>1</th>\n",
       "      <td>FDW14</td>\n",
       "      <td>8.300</td>\n",
       "      <td>reg</td>\n",
       "      <td>0.038428</td>\n",
       "      <td>Dairy</td>\n",
       "      <td>87.3198</td>\n",
       "      <td>OUT017</td>\n",
       "      <td>2007</td>\n",
       "      <td>NaN</td>\n",
       "      <td>Tier 2</td>\n",
       "      <td>Supermarket Type1</td>\n",
       "    </tr>\n",
       "    <tr>\n",
       "      <th>2</th>\n",
       "      <td>NCN55</td>\n",
       "      <td>14.600</td>\n",
       "      <td>Low Fat</td>\n",
       "      <td>0.099575</td>\n",
       "      <td>Others</td>\n",
       "      <td>241.7538</td>\n",
       "      <td>OUT010</td>\n",
       "      <td>1998</td>\n",
       "      <td>NaN</td>\n",
       "      <td>Tier 3</td>\n",
       "      <td>Grocery Store</td>\n",
       "    </tr>\n",
       "    <tr>\n",
       "      <th>3</th>\n",
       "      <td>FDQ58</td>\n",
       "      <td>7.315</td>\n",
       "      <td>Low Fat</td>\n",
       "      <td>0.015388</td>\n",
       "      <td>Snack Foods</td>\n",
       "      <td>155.0340</td>\n",
       "      <td>OUT017</td>\n",
       "      <td>2007</td>\n",
       "      <td>NaN</td>\n",
       "      <td>Tier 2</td>\n",
       "      <td>Supermarket Type1</td>\n",
       "    </tr>\n",
       "    <tr>\n",
       "      <th>4</th>\n",
       "      <td>FDY38</td>\n",
       "      <td>NaN</td>\n",
       "      <td>Regular</td>\n",
       "      <td>0.118599</td>\n",
       "      <td>Dairy</td>\n",
       "      <td>234.2300</td>\n",
       "      <td>OUT027</td>\n",
       "      <td>1985</td>\n",
       "      <td>Medium</td>\n",
       "      <td>Tier 3</td>\n",
       "      <td>Supermarket Type3</td>\n",
       "    </tr>\n",
       "  </tbody>\n",
       "</table>\n",
       "</div>"
      ],
      "text/plain": [
       "  Item_Identifier  Item_Weight Item_Fat_Content  Item_Visibility    Item_Type  \\\n",
       "0           FDW58       20.750          Low Fat         0.007565  Snack Foods   \n",
       "1           FDW14        8.300              reg         0.038428        Dairy   \n",
       "2           NCN55       14.600          Low Fat         0.099575       Others   \n",
       "3           FDQ58        7.315          Low Fat         0.015388  Snack Foods   \n",
       "4           FDY38          NaN          Regular         0.118599        Dairy   \n",
       "\n",
       "   Item_MRP Outlet_Identifier  Outlet_Establishment_Year Outlet_Size  \\\n",
       "0  107.8622            OUT049                       1999      Medium   \n",
       "1   87.3198            OUT017                       2007         NaN   \n",
       "2  241.7538            OUT010                       1998         NaN   \n",
       "3  155.0340            OUT017                       2007         NaN   \n",
       "4  234.2300            OUT027                       1985      Medium   \n",
       "\n",
       "  Outlet_Location_Type        Outlet_Type  \n",
       "0               Tier 1  Supermarket Type1  \n",
       "1               Tier 2  Supermarket Type1  \n",
       "2               Tier 3      Grocery Store  \n",
       "3               Tier 2  Supermarket Type1  \n",
       "4               Tier 3  Supermarket Type3  "
      ]
     },
     "execution_count": 4,
     "metadata": {},
     "output_type": "execute_result"
    }
   ],
   "source": [
    "test.head()"
   ]
  },
  {
   "cell_type": "code",
   "execution_count": 5,
   "id": "8e88e316",
   "metadata": {},
   "outputs": [
    {
     "data": {
      "application/vnd.microsoft.datawrangler.viewer.v0+json": {
       "columns": [
        {
         "name": "index",
         "rawType": "object",
         "type": "string"
        },
        {
         "name": "Item_Outlet_Sales",
         "rawType": "float64",
         "type": "float"
        }
       ],
       "ref": "32bbada9-63c6-4e9d-a8e7-ab3e6261dc37",
       "rows": [
        [
         "count",
         "8523.0"
        ],
        [
         "mean",
         "2181.288913575032"
        ],
        [
         "std",
         "1706.499615733832"
        ],
        [
         "min",
         "33.29"
        ],
        [
         "25%",
         "834.2474"
        ],
        [
         "50%",
         "1794.331"
        ],
        [
         "75%",
         "3101.2964"
        ],
        [
         "max",
         "13086.9648"
        ]
       ],
       "shape": {
        "columns": 1,
        "rows": 8
       }
      },
      "text/plain": [
       "count     8523.000000\n",
       "mean      2181.288914\n",
       "std       1706.499616\n",
       "min         33.290000\n",
       "25%        834.247400\n",
       "50%       1794.331000\n",
       "75%       3101.296400\n",
       "max      13086.964800\n",
       "Name: Item_Outlet_Sales, dtype: float64"
      ]
     },
     "execution_count": 5,
     "metadata": {},
     "output_type": "execute_result"
    }
   ],
   "source": [
    "train['Item_Outlet_Sales'].describe()"
   ]
  },
  {
   "cell_type": "code",
   "execution_count": 6,
   "id": "64223d0c",
   "metadata": {},
   "outputs": [],
   "source": [
    "# Combining train and test datasets for preprocessing\n",
    "test['Item_Outlet_Sales'] = np.nan\n",
    "data = pd.concat([train, test], ignore_index=True)"
   ]
  },
  {
   "cell_type": "code",
   "execution_count": 7,
   "id": "ec7eb860",
   "metadata": {},
   "outputs": [
    {
     "data": {
      "application/vnd.microsoft.datawrangler.viewer.v0+json": {
       "columns": [
        {
         "name": "index",
         "rawType": "int64",
         "type": "integer"
        },
        {
         "name": "Item_Identifier",
         "rawType": "object",
         "type": "string"
        },
        {
         "name": "Item_Weight",
         "rawType": "float64",
         "type": "float"
        },
        {
         "name": "Item_Fat_Content",
         "rawType": "object",
         "type": "string"
        },
        {
         "name": "Item_Visibility",
         "rawType": "float64",
         "type": "float"
        },
        {
         "name": "Item_Type",
         "rawType": "object",
         "type": "string"
        },
        {
         "name": "Item_MRP",
         "rawType": "float64",
         "type": "float"
        },
        {
         "name": "Outlet_Identifier",
         "rawType": "object",
         "type": "string"
        },
        {
         "name": "Outlet_Establishment_Year",
         "rawType": "int64",
         "type": "integer"
        },
        {
         "name": "Outlet_Size",
         "rawType": "object",
         "type": "unknown"
        },
        {
         "name": "Outlet_Location_Type",
         "rawType": "object",
         "type": "string"
        },
        {
         "name": "Outlet_Type",
         "rawType": "object",
         "type": "string"
        },
        {
         "name": "Item_Outlet_Sales",
         "rawType": "float64",
         "type": "float"
        }
       ],
       "ref": "af2760fe-7d31-4bf2-99cf-0205b10ee4be",
       "rows": [
        [
         "0",
         "FDA15",
         "9.3",
         "Low Fat",
         "0.016047301",
         "Dairy",
         "249.8092",
         "OUT049",
         "1999",
         "Medium",
         "Tier 1",
         "Supermarket Type1",
         "3735.138"
        ],
        [
         "1",
         "DRC01",
         "5.92",
         "Regular",
         "0.019278216",
         "Soft Drinks",
         "48.2692",
         "OUT018",
         "2009",
         "Medium",
         "Tier 3",
         "Supermarket Type2",
         "443.4228"
        ],
        [
         "2",
         "FDN15",
         "17.5",
         "Low Fat",
         "0.016760075",
         "Meat",
         "141.618",
         "OUT049",
         "1999",
         "Medium",
         "Tier 1",
         "Supermarket Type1",
         "2097.27"
        ],
        [
         "3",
         "FDX07",
         "19.2",
         "Regular",
         "0.0",
         "Fruits and Vegetables",
         "182.095",
         "OUT010",
         "1998",
         null,
         "Tier 3",
         "Grocery Store",
         "732.38"
        ],
        [
         "4",
         "NCD19",
         "8.93",
         "Low Fat",
         "0.0",
         "Household",
         "53.8614",
         "OUT013",
         "1987",
         "High",
         "Tier 3",
         "Supermarket Type1",
         "994.7052"
        ]
       ],
       "shape": {
        "columns": 12,
        "rows": 5
       }
      },
      "text/html": [
       "<div>\n",
       "<style scoped>\n",
       "    .dataframe tbody tr th:only-of-type {\n",
       "        vertical-align: middle;\n",
       "    }\n",
       "\n",
       "    .dataframe tbody tr th {\n",
       "        vertical-align: top;\n",
       "    }\n",
       "\n",
       "    .dataframe thead th {\n",
       "        text-align: right;\n",
       "    }\n",
       "</style>\n",
       "<table border=\"1\" class=\"dataframe\">\n",
       "  <thead>\n",
       "    <tr style=\"text-align: right;\">\n",
       "      <th></th>\n",
       "      <th>Item_Identifier</th>\n",
       "      <th>Item_Weight</th>\n",
       "      <th>Item_Fat_Content</th>\n",
       "      <th>Item_Visibility</th>\n",
       "      <th>Item_Type</th>\n",
       "      <th>Item_MRP</th>\n",
       "      <th>Outlet_Identifier</th>\n",
       "      <th>Outlet_Establishment_Year</th>\n",
       "      <th>Outlet_Size</th>\n",
       "      <th>Outlet_Location_Type</th>\n",
       "      <th>Outlet_Type</th>\n",
       "      <th>Item_Outlet_Sales</th>\n",
       "    </tr>\n",
       "  </thead>\n",
       "  <tbody>\n",
       "    <tr>\n",
       "      <th>0</th>\n",
       "      <td>FDA15</td>\n",
       "      <td>9.30</td>\n",
       "      <td>Low Fat</td>\n",
       "      <td>0.016047</td>\n",
       "      <td>Dairy</td>\n",
       "      <td>249.8092</td>\n",
       "      <td>OUT049</td>\n",
       "      <td>1999</td>\n",
       "      <td>Medium</td>\n",
       "      <td>Tier 1</td>\n",
       "      <td>Supermarket Type1</td>\n",
       "      <td>3735.1380</td>\n",
       "    </tr>\n",
       "    <tr>\n",
       "      <th>1</th>\n",
       "      <td>DRC01</td>\n",
       "      <td>5.92</td>\n",
       "      <td>Regular</td>\n",
       "      <td>0.019278</td>\n",
       "      <td>Soft Drinks</td>\n",
       "      <td>48.2692</td>\n",
       "      <td>OUT018</td>\n",
       "      <td>2009</td>\n",
       "      <td>Medium</td>\n",
       "      <td>Tier 3</td>\n",
       "      <td>Supermarket Type2</td>\n",
       "      <td>443.4228</td>\n",
       "    </tr>\n",
       "    <tr>\n",
       "      <th>2</th>\n",
       "      <td>FDN15</td>\n",
       "      <td>17.50</td>\n",
       "      <td>Low Fat</td>\n",
       "      <td>0.016760</td>\n",
       "      <td>Meat</td>\n",
       "      <td>141.6180</td>\n",
       "      <td>OUT049</td>\n",
       "      <td>1999</td>\n",
       "      <td>Medium</td>\n",
       "      <td>Tier 1</td>\n",
       "      <td>Supermarket Type1</td>\n",
       "      <td>2097.2700</td>\n",
       "    </tr>\n",
       "    <tr>\n",
       "      <th>3</th>\n",
       "      <td>FDX07</td>\n",
       "      <td>19.20</td>\n",
       "      <td>Regular</td>\n",
       "      <td>0.000000</td>\n",
       "      <td>Fruits and Vegetables</td>\n",
       "      <td>182.0950</td>\n",
       "      <td>OUT010</td>\n",
       "      <td>1998</td>\n",
       "      <td>NaN</td>\n",
       "      <td>Tier 3</td>\n",
       "      <td>Grocery Store</td>\n",
       "      <td>732.3800</td>\n",
       "    </tr>\n",
       "    <tr>\n",
       "      <th>4</th>\n",
       "      <td>NCD19</td>\n",
       "      <td>8.93</td>\n",
       "      <td>Low Fat</td>\n",
       "      <td>0.000000</td>\n",
       "      <td>Household</td>\n",
       "      <td>53.8614</td>\n",
       "      <td>OUT013</td>\n",
       "      <td>1987</td>\n",
       "      <td>High</td>\n",
       "      <td>Tier 3</td>\n",
       "      <td>Supermarket Type1</td>\n",
       "      <td>994.7052</td>\n",
       "    </tr>\n",
       "  </tbody>\n",
       "</table>\n",
       "</div>"
      ],
      "text/plain": [
       "  Item_Identifier  Item_Weight Item_Fat_Content  Item_Visibility  \\\n",
       "0           FDA15         9.30          Low Fat         0.016047   \n",
       "1           DRC01         5.92          Regular         0.019278   \n",
       "2           FDN15        17.50          Low Fat         0.016760   \n",
       "3           FDX07        19.20          Regular         0.000000   \n",
       "4           NCD19         8.93          Low Fat         0.000000   \n",
       "\n",
       "               Item_Type  Item_MRP Outlet_Identifier  \\\n",
       "0                  Dairy  249.8092            OUT049   \n",
       "1            Soft Drinks   48.2692            OUT018   \n",
       "2                   Meat  141.6180            OUT049   \n",
       "3  Fruits and Vegetables  182.0950            OUT010   \n",
       "4              Household   53.8614            OUT013   \n",
       "\n",
       "   Outlet_Establishment_Year Outlet_Size Outlet_Location_Type  \\\n",
       "0                       1999      Medium               Tier 1   \n",
       "1                       2009      Medium               Tier 3   \n",
       "2                       1999      Medium               Tier 1   \n",
       "3                       1998         NaN               Tier 3   \n",
       "4                       1987        High               Tier 3   \n",
       "\n",
       "         Outlet_Type  Item_Outlet_Sales  \n",
       "0  Supermarket Type1          3735.1380  \n",
       "1  Supermarket Type2           443.4228  \n",
       "2  Supermarket Type1          2097.2700  \n",
       "3      Grocery Store           732.3800  \n",
       "4  Supermarket Type1           994.7052  "
      ]
     },
     "execution_count": 7,
     "metadata": {},
     "output_type": "execute_result"
    }
   ],
   "source": [
    "data.head()"
   ]
  },
  {
   "cell_type": "code",
   "execution_count": 8,
   "id": "2da08fe0",
   "metadata": {},
   "outputs": [
    {
     "name": "stdout",
     "output_type": "stream",
     "text": [
      "<class 'pandas.core.frame.DataFrame'>\n",
      "RangeIndex: 14204 entries, 0 to 14203\n",
      "Data columns (total 12 columns):\n",
      " #   Column                     Non-Null Count  Dtype  \n",
      "---  ------                     --------------  -----  \n",
      " 0   Item_Identifier            14204 non-null  object \n",
      " 1   Item_Weight                11765 non-null  float64\n",
      " 2   Item_Fat_Content           14204 non-null  object \n",
      " 3   Item_Visibility            14204 non-null  float64\n",
      " 4   Item_Type                  14204 non-null  object \n",
      " 5   Item_MRP                   14204 non-null  float64\n",
      " 6   Outlet_Identifier          14204 non-null  object \n",
      " 7   Outlet_Establishment_Year  14204 non-null  int64  \n",
      " 8   Outlet_Size                10188 non-null  object \n",
      " 9   Outlet_Location_Type       14204 non-null  object \n",
      " 10  Outlet_Type                14204 non-null  object \n",
      " 11  Item_Outlet_Sales          8523 non-null   float64\n",
      "dtypes: float64(4), int64(1), object(7)\n",
      "memory usage: 1.3+ MB\n"
     ]
    }
   ],
   "source": [
    "data.info()"
   ]
  },
  {
   "cell_type": "code",
   "execution_count": 9,
   "id": "2ba1275c",
   "metadata": {},
   "outputs": [
    {
     "data": {
      "application/vnd.microsoft.datawrangler.viewer.v0+json": {
       "columns": [
        {
         "name": "index",
         "rawType": "object",
         "type": "string"
        },
        {
         "name": "0",
         "rawType": "int64",
         "type": "integer"
        }
       ],
       "ref": "3c4720d5-e7a0-44a1-a4b1-de6c938a5493",
       "rows": [
        [
         "Item_Identifier",
         "0"
        ],
        [
         "Item_Weight",
         "2439"
        ],
        [
         "Item_Fat_Content",
         "0"
        ],
        [
         "Item_Visibility",
         "0"
        ],
        [
         "Item_Type",
         "0"
        ],
        [
         "Item_MRP",
         "0"
        ],
        [
         "Outlet_Identifier",
         "0"
        ],
        [
         "Outlet_Establishment_Year",
         "0"
        ],
        [
         "Outlet_Size",
         "4016"
        ],
        [
         "Outlet_Location_Type",
         "0"
        ],
        [
         "Outlet_Type",
         "0"
        ],
        [
         "Item_Outlet_Sales",
         "5681"
        ]
       ],
       "shape": {
        "columns": 1,
        "rows": 12
       }
      },
      "text/plain": [
       "Item_Identifier                 0\n",
       "Item_Weight                  2439\n",
       "Item_Fat_Content                0\n",
       "Item_Visibility                 0\n",
       "Item_Type                       0\n",
       "Item_MRP                        0\n",
       "Outlet_Identifier               0\n",
       "Outlet_Establishment_Year       0\n",
       "Outlet_Size                  4016\n",
       "Outlet_Location_Type            0\n",
       "Outlet_Type                     0\n",
       "Item_Outlet_Sales            5681\n",
       "dtype: int64"
      ]
     },
     "execution_count": 9,
     "metadata": {},
     "output_type": "execute_result"
    }
   ],
   "source": [
    "# Check for missing values\n",
    "data.isna().sum()"
   ]
  },
  {
   "cell_type": "code",
   "execution_count": 10,
   "id": "216c71b0",
   "metadata": {},
   "outputs": [],
   "source": [
    "# missing value imputation"
   ]
  },
  {
   "cell_type": "code",
   "execution_count": 11,
   "id": "e9121f0f",
   "metadata": {},
   "outputs": [
    {
     "data": {
      "text/plain": [
       "0"
      ]
     },
     "execution_count": 11,
     "metadata": {},
     "output_type": "execute_result"
    }
   ],
   "source": [
    "# Fill missing Item_Weight with the mode of the respective Item_Identifier\n",
    "data['Item_Weight'].fillna(data.groupby('Item_Identifier')['Item_Weight'].transform(lambda x:x.mode()[0]), inplace=True)\n",
    "data['Item_Weight'].isna().sum()\n"
   ]
  },
  {
   "cell_type": "code",
   "execution_count": 12,
   "id": "fd926b21",
   "metadata": {},
   "outputs": [
    {
     "name": "stdout",
     "output_type": "stream",
     "text": [
      "['Medium' nan 'High' 'Small']\n"
     ]
    },
    {
     "data": {
      "text/plain": [
       "0"
      ]
     },
     "execution_count": 12,
     "metadata": {},
     "output_type": "execute_result"
    }
   ],
   "source": [
    "# Fill missing Outlet_Size using mode per Outlet_Type\n",
    "print(data['Outlet_Size'].unique())\n",
    "data['Outlet_Size'].fillna(data.groupby('Outlet_Type')['Outlet_Size'].transform(lambda x: x.mode()[0]), inplace=True)\n",
    "data['Outlet_Size'].isna().sum()"
   ]
  },
  {
   "cell_type": "code",
   "execution_count": 13,
   "id": "a591e55d",
   "metadata": {},
   "outputs": [
    {
     "data": {
      "text/plain": [
       "array(['Low Fat', 'Regular', 'low fat', 'LF', 'reg'], dtype=object)"
      ]
     },
     "execution_count": 13,
     "metadata": {},
     "output_type": "execute_result"
    }
   ],
   "source": [
    "## Item fat content unique values\n",
    "data['Item_Fat_Content'].unique()"
   ]
  },
  {
   "cell_type": "code",
   "execution_count": 14,
   "id": "4092f731",
   "metadata": {},
   "outputs": [
    {
     "data": {
      "text/plain": [
       "<Axes: >"
      ]
     },
     "execution_count": 14,
     "metadata": {},
     "output_type": "execute_result"
    },
    {
     "data": {
      "image/png": "[encoded data removed]",
      "text/plain": [
       "<Figure size 640x480 with 1 Axes>"
      ]
     },
     "metadata": {},
     "output_type": "display_data"
    }
   ],
   "source": [
    "# Standardizing Item_Fat_Content values\n",
    "data['Item_Fat_Content'] = data['Item_Fat_Content'].replace({\n",
    "    'LF': 'Low Fat', 'low fat': 'Low Fat', 'reg': 'Regular'\n",
    "})\n",
    "data['Item_Fat_Content'].hist()"
   ]
  },
  {
   "cell_type": "code",
   "execution_count": 15,
   "id": "d41dd5c7",
   "metadata": {},
   "outputs": [
    {
     "name": "stdout",
     "output_type": "stream",
     "text": [
      "['Supermarket Type1' 'Supermarket Type2' 'Grocery Store'\n",
      " 'Supermarket Type3']\n"
     ]
    },
    {
     "data": {
      "text/plain": [
       "<Axes: >"
      ]
     },
     "execution_count": 15,
     "metadata": {},
     "output_type": "execute_result"
    },
    {
     "data": {
      "image/png": "[encoded data removed]",
      "text/plain": [
       "<Figure size 640x480 with 1 Axes>"
      ]
     },
     "metadata": {},
     "output_type": "display_data"
    }
   ],
   "source": [
    "print(data['Outlet_Type'].unique())\n",
    "data['Outlet_Type'].hist()"
   ]
  },
  {
   "cell_type": "code",
   "execution_count": 16,
   "id": "2ed68d54",
   "metadata": {},
   "outputs": [
    {
     "data": {
      "text/plain": [
       "<Axes: >"
      ]
     },
     "execution_count": 16,
     "metadata": {},
     "output_type": "execute_result"
    },
    {
     "data": {
      "image/png": "[encoded data removed]",
      "text/plain": [
       "<Figure size 640x480 with 1 Axes>"
      ]
     },
     "metadata": {},
     "output_type": "display_data"
    }
   ],
   "source": [
    "data['Outlet_Establishment_Year'].hist()"
   ]
  },
  {
   "cell_type": "code",
   "execution_count": 17,
   "id": "52562c74",
   "metadata": {},
   "outputs": [],
   "source": [
    "# Create New Feature: Outlet_Years\n",
    "data['Outlet_Years'] = 2010 - data['Outlet_Establishment_Year']"
   ]
  },
  {
   "cell_type": "code",
   "execution_count": 18,
   "id": "6a0f634e",
   "metadata": {},
   "outputs": [
    {
     "data": {
      "text/plain": [
       "array(['Dairy', 'Soft Drinks', 'Meat', 'Fruits and Vegetables',\n",
       "       'Household', 'Baking Goods', 'Snack Foods', 'Frozen Foods',\n",
       "       'Breakfast', 'Health and Hygiene', 'Hard Drinks', 'Canned',\n",
       "       'Breads', 'Starchy Foods', 'Others', 'Seafood'], dtype=object)"
      ]
     },
     "execution_count": 18,
     "metadata": {},
     "output_type": "execute_result"
    }
   ],
   "source": [
    "data['Item_Type'].unique()"
   ]
  },
  {
   "cell_type": "code",
   "execution_count": 19,
   "id": "dc66aca4",
   "metadata": {},
   "outputs": [],
   "source": [
    "## make groups for item type\n",
    "perishables = ['Dairy', 'Fruits and Vegetables', 'Meat', 'Frozen Foods', 'Seafood', 'Breads', 'Breakfast']\n",
    "non_perishables = ['Canned', 'Baking Goods', 'Starchy Foods', 'Household', 'Health and Hygiene']\n",
    "consumables = ['Snack Foods', 'Soft Drinks', 'Hard Drinks']\n",
    "other = ['Others']\n",
    "\n",
    "def group_item_type(x):\n",
    "    if x in perishables:\n",
    "        return 'Perishable'\n",
    "    elif x in non_perishables:\n",
    "        return 'Non-Perishable'\n",
    "    elif x in consumables:\n",
    "        return 'Consumables'\n",
    "    else:\n",
    "        return 'Others'\n",
    "\n",
    "data['Item_Category_Grouped'] = data['Item_Type'].apply(group_item_type)\n",
    "\n"
   ]
  },
  {
   "cell_type": "code",
   "execution_count": 20,
   "id": "6728458c",
   "metadata": {},
   "outputs": [
    {
     "name": "stdout",
     "output_type": "stream",
     "text": [
      "['Perishable' 'Consumables' 'Non-Perishable' 'Others']\n"
     ]
    },
    {
     "data": {
      "text/plain": [
       "<Axes: >"
      ]
     },
     "execution_count": 20,
     "metadata": {},
     "output_type": "execute_result"
    },
    {
     "data": {
      "image/png": "[encoded data removed]",
      "text/plain": [
       "<Figure size 640x480 with 1 Axes>"
      ]
     },
     "metadata": {},
     "output_type": "display_data"
    }
   ],
   "source": [
    "print(data['Item_Category_Grouped'].unique())\n",
    "data['Item_Category_Grouped'].hist()"
   ]
  },
  {
   "cell_type": "code",
   "execution_count": 21,
   "id": "72ebf79a",
   "metadata": {},
   "outputs": [
    {
     "name": "stdout",
     "output_type": "stream",
     "text": [
      "['Tier 1' 'Tier 3' 'Tier 2']\n"
     ]
    },
    {
     "data": {
      "text/plain": [
       "<Axes: >"
      ]
     },
     "execution_count": 21,
     "metadata": {},
     "output_type": "execute_result"
    },
    {
     "data": {
      "image/png": "[encoded data removed]",
      "text/plain": [
       "<Figure size 640x480 with 1 Axes>"
      ]
     },
     "metadata": {},
     "output_type": "display_data"
    }
   ],
   "source": [
    "print(data['Outlet_Location_Type'].unique())\n",
    "data['Outlet_Location_Type'].hist() "
   ]
  },
  {
   "cell_type": "code",
   "execution_count": 22,
   "id": "900e705d",
   "metadata": {},
   "outputs": [
    {
     "data": {
      "image/png": "[encoded data removed]",
      "text/plain": [
       "<Figure size 1000x800 with 2 Axes>"
      ]
     },
     "metadata": {},
     "output_type": "display_data"
    }
   ],
   "source": [
    "# Plot heatmap for numeric columns in the data DataFrame\n",
    "train_df = data[~data['Item_Outlet_Sales'].isna()]\n",
    "numeric_cols = train_df.select_dtypes(include=[np.number])\n",
    "plt.figure(figsize=(10, 8))\n",
    "sns.heatmap(numeric_cols.corr().round(2), \n",
    "            annot=True,          \n",
    "            fmt=\".2f\",    \n",
    "            cmap='coolwarm',      \n",
    "            cbar=True,            \n",
    "            square=True,          \n",
    "            annot_kws={\"size\": 12})  \n",
    "\n",
    "plt.title('Correlation Heatmap for Numeric Columns', fontsize=14)\n",
    "plt.xticks(rotation=45, ha='right')\n",
    "plt.yticks(rotation=0)\n",
    "plt.tight_layout()\n",
    "plt.show()\n",
    "# numeric_cols.corr().round(2)\n",
    "# plt.show()"
   ]
  },
  {
   "cell_type": "code",
   "execution_count": 23,
   "id": "a4726bdd",
   "metadata": {},
   "outputs": [],
   "source": [
    "## MRP and Item Visibility has good correlation with Item_Outlet_Sales\n"
   ]
  },
  {
   "cell_type": "code",
   "execution_count": 24,
   "id": "7c7e3d86",
   "metadata": {},
   "outputs": [
    {
     "data": {
      "image/png": "[encoded data removed]",
      "text/plain": [
       "<Figure size 1200x600 with 1 Axes>"
      ]
     },
     "metadata": {},
     "output_type": "display_data"
    }
   ],
   "source": [
    "plt.figure(figsize=(12, 6))\n",
    "sns.boxplot(\n",
    "    data=train_df,\n",
    "    x='Outlet_Type',\n",
    "    y='Item_Outlet_Sales',\n",
    "    hue='Outlet_Location_Type'\n",
    ")\n",
    "plt.title('Item Outlet Sales by Outlet Type and Location Type')\n",
    "plt.xticks(rotation=30)\n",
    "plt.legend(title='Outlet Location Type')\n",
    "plt.tight_layout()\n",
    "plt.show()"
   ]
  },
  {
   "cell_type": "code",
   "execution_count": 25,
   "id": "31e5f5c7",
   "metadata": {},
   "outputs": [],
   "source": [
    "## Grocery stores have lower sales compared to Supermarket Type1 ,Type2 and Type3\n",
    "## Supermarket Type1 has the highest sales, which is only in Tier 3 \n",
    "\n",
    "## can make a new feature combining Outlet Type and Location Type"
   ]
  },
  {
   "cell_type": "code",
   "execution_count": 26,
   "id": "4fab421e",
   "metadata": {},
   "outputs": [],
   "source": [
    "## Feature Engineering"
   ]
  },
  {
   "cell_type": "code",
   "execution_count": 27,
   "id": "88ab0837",
   "metadata": {},
   "outputs": [],
   "source": [
    "## Outlet Type and Location Type Combination\n",
    "\n",
    "data['Outlet_Type_Location'] = data['Outlet_Location_Type']+ \"_\" + data['Outlet_Type']"
   ]
  },
  {
   "cell_type": "code",
   "execution_count": 28,
   "id": "ea2ff1b1",
   "metadata": {},
   "outputs": [
    {
     "data": {
      "image/png": "[encoded data removed]",
      "text/plain": [
       "<Figure size 1200x500 with 1 Axes>"
      ]
     },
     "metadata": {},
     "output_type": "display_data"
    }
   ],
   "source": [
    "data['Outlet_Type_Location'].hist(figsize=(12, 5))\n",
    "plt.xticks(rotation=45)\n",
    "plt.show()"
   ]
  },
  {
   "cell_type": "code",
   "execution_count": 29,
   "id": "97bd2d46",
   "metadata": {},
   "outputs": [
    {
     "data": {
      "text/plain": [
       "<Axes: >"
      ]
     },
     "execution_count": 29,
     "metadata": {},
     "output_type": "execute_result"
    },
    {
     "data": {
      "image/png": "[encoded data removed]",
      "text/plain": [
       "<Figure size 1200x500 with 1 Axes>"
      ]
     },
     "metadata": {},
     "output_type": "display_data"
    }
   ],
   "source": [
    "data['Item_Visibility'].hist(figsize=(12, 5))"
   ]
  },
  {
   "cell_type": "code",
   "execution_count": 30,
   "id": "6384b21e",
   "metadata": {},
   "outputs": [
    {
     "data": {
      "image/png": "[encoded data removed]",
      "text/plain": [
       "<Figure size 1000x600 with 1 Axes>"
      ]
     },
     "metadata": {},
     "output_type": "display_data"
    }
   ],
   "source": [
    "plt.figure(figsize=(10, 6))\n",
    "sns.scatterplot(data=train_df, x='Item_Visibility', y='Item_Outlet_Sales', alpha=0.5)\n",
    "plt.title('Item Visibility vs Item Outlet Sales')\n",
    "plt.xlabel('Item Visibility')\n",
    "plt.ylabel('Item Outlet Sales')\n",
    "plt.tight_layout()\n",
    "plt.show()"
   ]
  },
  {
   "cell_type": "code",
   "execution_count": 31,
   "id": "d0808f75",
   "metadata": {},
   "outputs": [],
   "source": [
    "\n",
    "# Create New Feature: Item_Visibility_MeanRatio\n",
    "data['Item_Visibility_MeanRatio'] = data['Item_Visibility'] / data.groupby('Item_Identifier')['Item_Visibility'].transform('mean')\n",
    "data['Item_Visibility_MeanRatio'].replace([np.inf, -np.inf], 0, inplace=True)\n",
    "data['Item_Visibility_MeanRatio'].fillna(0, inplace=True)"
   ]
  },
  {
   "cell_type": "code",
   "execution_count": 32,
   "id": "f55eafae",
   "metadata": {},
   "outputs": [],
   "source": [
    "### visibility binning\n",
    "\n",
    "data['Visibility_Bin'] = data['Item_Visibility'].apply(lambda x:'High' if x<0.2 else 'Low')"
   ]
  },
  {
   "cell_type": "code",
   "execution_count": 33,
   "id": "0679cad5",
   "metadata": {},
   "outputs": [],
   "source": [
    "data['Visibility_Bin_Location'] = data['Visibility_Bin']+ \"_\" +data['Outlet_Location_Type']"
   ]
  },
  {
   "cell_type": "code",
   "execution_count": 34,
   "id": "866d611d",
   "metadata": {},
   "outputs": [
    {
     "data": {
      "image/png": "[encoded data removed]",
      "text/plain": [
       "<Figure size 1200x600 with 1 Axes>"
      ]
     },
     "metadata": {},
     "output_type": "display_data"
    }
   ],
   "source": [
    "plt.figure(figsize=(12, 6))\n",
    "sns.boxplot(\n",
    "    data=train_df,\n",
    "    x='Outlet_Size',\n",
    "    y='Item_Outlet_Sales',\n",
    "    hue='Outlet_Type'\n",
    ")\n",
    "plt.title('Item Outlet Sales by Outlet Size and Outlet Type')\n",
    "plt.xticks(rotation=30)\n",
    "plt.legend(title='Outlet Type')\n",
    "plt.tight_layout()\n",
    "plt.show()"
   ]
  },
  {
   "cell_type": "code",
   "execution_count": 35,
   "id": "25822b2a",
   "metadata": {},
   "outputs": [],
   "source": [
    "### Ineteraction terms\n",
    "\n",
    "data['Outlet_Size_Type'] =  data.apply(lambda x:x['Outlet_Size']+\"_\"+x['Outlet_Type'], axis=1)"
   ]
  },
  {
   "cell_type": "code",
   "execution_count": 36,
   "id": "27cecc54",
   "metadata": {},
   "outputs": [],
   "source": [
    "data['Price_per_kg'] = data['Item_MRP'] / data['Item_Weight']"
   ]
  },
  {
   "cell_type": "code",
   "execution_count": 37,
   "id": "90cee37e",
   "metadata": {},
   "outputs": [
    {
     "data": {
      "application/vnd.microsoft.datawrangler.viewer.v0+json": {
       "columns": [
        {
         "name": "index",
         "rawType": "int64",
         "type": "integer"
        },
        {
         "name": "Item_Identifier",
         "rawType": "object",
         "type": "string"
        },
        {
         "name": "Item_Weight",
         "rawType": "float64",
         "type": "float"
        },
        {
         "name": "Item_Fat_Content",
         "rawType": "object",
         "type": "string"
        },
        {
         "name": "Item_Visibility",
         "rawType": "float64",
         "type": "float"
        },
        {
         "name": "Item_Type",
         "rawType": "object",
         "type": "string"
        },
        {
         "name": "Item_MRP",
         "rawType": "float64",
         "type": "float"
        },
        {
         "name": "Outlet_Identifier",
         "rawType": "object",
         "type": "string"
        },
        {
         "name": "Outlet_Establishment_Year",
         "rawType": "int64",
         "type": "integer"
        },
        {
         "name": "Outlet_Size",
         "rawType": "object",
         "type": "string"
        },
        {
         "name": "Outlet_Location_Type",
         "rawType": "object",
         "type": "string"
        },
        {
         "name": "Outlet_Type",
         "rawType": "object",
         "type": "string"
        },
        {
         "name": "Item_Outlet_Sales",
         "rawType": "float64",
         "type": "float"
        },
        {
         "name": "Outlet_Years",
         "rawType": "int64",
         "type": "integer"
        },
        {
         "name": "Item_Category_Grouped",
         "rawType": "object",
         "type": "string"
        },
        {
         "name": "Outlet_Type_Location",
         "rawType": "object",
         "type": "string"
        },
        {
         "name": "Item_Visibility_MeanRatio",
         "rawType": "float64",
         "type": "float"
        },
        {
         "name": "Visibility_Bin",
         "rawType": "object",
         "type": "string"
        },
        {
         "name": "Visibility_Bin_Location",
         "rawType": "object",
         "type": "string"
        },
        {
         "name": "Outlet_Size_Type",
         "rawType": "object",
         "type": "string"
        },
        {
         "name": "Price_per_kg",
         "rawType": "float64",
         "type": "float"
        }
       ],
       "ref": "27a43b0d-eed9-4fd1-a270-e94287f2c85e",
       "rows": [
        [
         "0",
         "FDA15",
         "9.3",
         "Low Fat",
         "0.016047301",
         "Dairy",
         "249.8092",
         "OUT049",
         "1999",
         "Medium",
         "Tier 1",
         "Supermarket Type1",
         "3735.138",
         "11",
         "Perishable",
         "Tier 1_Supermarket Type1",
         "0.9310779543761085",
         "High",
         "High_Tier 1",
         "Medium_Supermarket Type1",
         "26.86120430107527"
        ],
        [
         "1",
         "DRC01",
         "5.92",
         "Regular",
         "0.019278216",
         "Soft Drinks",
         "48.2692",
         "OUT018",
         "2009",
         "Medium",
         "Tier 3",
         "Supermarket Type2",
         "443.4228",
         "1",
         "Consumables",
         "Tier 3_Supermarket Type2",
         "0.9334195208758377",
         "High",
         "High_Tier 3",
         "Medium_Supermarket Type2",
         "8.15358108108108"
        ],
        [
         "2",
         "FDN15",
         "17.5",
         "Low Fat",
         "0.016760075",
         "Meat",
         "141.618",
         "OUT049",
         "1999",
         "Medium",
         "Tier 1",
         "Supermarket Type1",
         "2097.27",
         "11",
         "Perishable",
         "Tier 1_Supermarket Type1",
         "0.9600687539048446",
         "High",
         "High_Tier 1",
         "Medium_Supermarket Type1",
         "8.092457142857143"
        ],
        [
         "3",
         "FDX07",
         "19.2",
         "Regular",
         "0.0",
         "Fruits and Vegetables",
         "182.095",
         "OUT010",
         "1998",
         "Small",
         "Tier 3",
         "Grocery Store",
         "732.38",
         "12",
         "Perishable",
         "Tier 3_Grocery Store",
         "0.0",
         "High",
         "High_Tier 3",
         "Small_Grocery Store",
         "9.484114583333334"
        ],
        [
         "4",
         "NCD19",
         "8.93",
         "Low Fat",
         "0.0",
         "Household",
         "53.8614",
         "OUT013",
         "1987",
         "High",
         "Tier 3",
         "Supermarket Type1",
         "994.7052",
         "23",
         "Non-Perishable",
         "Tier 3_Supermarket Type1",
         "0.0",
         "High",
         "High_Tier 3",
         "High_Supermarket Type1",
         "6.031511758118701"
        ],
        [
         "5",
         "FDP36",
         "10.395",
         "Regular",
         "0.0",
         "Baking Goods",
         "51.4008",
         "OUT018",
         "2009",
         "Medium",
         "Tier 3",
         "Supermarket Type2",
         "556.6088",
         "1",
         "Non-Perishable",
         "Tier 3_Supermarket Type2",
         "0.0",
         "High",
         "High_Tier 3",
         "Medium_Supermarket Type2",
         "4.944761904761904"
        ],
        [
         "6",
         "FDO10",
         "13.65",
         "Regular",
         "0.012741089",
         "Snack Foods",
         "57.6588",
         "OUT013",
         "1987",
         "High",
         "Tier 3",
         "Supermarket Type1",
         "343.5528",
         "23",
         "Consumables",
         "Tier 3_Supermarket Type1",
         "1.497197477651743",
         "High",
         "High_Tier 3",
         "High_Supermarket Type1",
         "4.224087912087912"
        ],
        [
         "7",
         "FDP10",
         "19.0",
         "Low Fat",
         "0.127469857",
         "Snack Foods",
         "107.7622",
         "OUT027",
         "1985",
         "Medium",
         "Tier 3",
         "Supermarket Type3",
         "4022.7636",
         "25",
         "Consumables",
         "Tier 3_Supermarket Type3",
         "0.8704928816397633",
         "High",
         "High_Tier 3",
         "Medium_Supermarket Type3",
         "5.671694736842106"
        ],
        [
         "8",
         "FDH17",
         "16.2",
         "Regular",
         "0.016687114",
         "Frozen Foods",
         "96.9726",
         "OUT045",
         "2002",
         "Small",
         "Tier 2",
         "Supermarket Type1",
         "1076.5986",
         "8",
         "Perishable",
         "Tier 2_Supermarket Type1",
         "0.9241603619293527",
         "High",
         "High_Tier 2",
         "Small_Supermarket Type1",
         "5.985962962962963"
        ],
        [
         "9",
         "FDU28",
         "19.2",
         "Regular",
         "0.09444959",
         "Frozen Foods",
         "187.8214",
         "OUT017",
         "2007",
         "Small",
         "Tier 2",
         "Supermarket Type1",
         "4710.535",
         "3",
         "Perishable",
         "Tier 2_Supermarket Type1",
         "0.9639830398302507",
         "High",
         "High_Tier 2",
         "Small_Supermarket Type1",
         "9.782364583333335"
        ],
        [
         "10",
         "FDY07",
         "11.8",
         "Low Fat",
         "0.0",
         "Fruits and Vegetables",
         "45.5402",
         "OUT049",
         "1999",
         "Medium",
         "Tier 1",
         "Supermarket Type1",
         "1516.0266",
         "11",
         "Perishable",
         "Tier 1_Supermarket Type1",
         "0.0",
         "High",
         "High_Tier 1",
         "Medium_Supermarket Type1",
         "3.859338983050847"
        ],
        [
         "11",
         "FDA03",
         "18.5",
         "Regular",
         "0.045463773",
         "Dairy",
         "144.1102",
         "OUT046",
         "1997",
         "Small",
         "Tier 1",
         "Supermarket Type1",
         "2187.153",
         "13",
         "Perishable",
         "Tier 1_Supermarket Type1",
         "1.0366952071584155",
         "High",
         "High_Tier 1",
         "Small_Supermarket Type1",
         "7.78974054054054"
        ],
        [
         "12",
         "FDX32",
         "15.1",
         "Regular",
         "0.1000135",
         "Fruits and Vegetables",
         "145.4786",
         "OUT049",
         "1999",
         "Medium",
         "Tier 1",
         "Supermarket Type1",
         "1589.2646",
         "11",
         "Perishable",
         "Tier 1_Supermarket Type1",
         "1.026359813124039",
         "High",
         "High_Tier 1",
         "Medium_Supermarket Type1",
         "9.634344370860928"
        ],
        [
         "13",
         "FDS46",
         "17.6",
         "Regular",
         "0.047257328",
         "Snack Foods",
         "119.6782",
         "OUT046",
         "1997",
         "Small",
         "Tier 1",
         "Supermarket Type1",
         "2145.2076",
         "13",
         "Consumables",
         "Tier 1_Supermarket Type1",
         "0.922289906298101",
         "High",
         "High_Tier 1",
         "Small_Supermarket Type1",
         "6.799897727272727"
        ],
        [
         "14",
         "FDF32",
         "16.35",
         "Low Fat",
         "0.0680243",
         "Fruits and Vegetables",
         "196.4426",
         "OUT013",
         "1987",
         "High",
         "Tier 3",
         "Supermarket Type1",
         "1977.426",
         "23",
         "Perishable",
         "Tier 3_Supermarket Type1",
         "1.1713313653743491",
         "High",
         "High_Tier 3",
         "High_Supermarket Type1",
         "12.014837920489295"
        ],
        [
         "15",
         "FDP49",
         "9.0",
         "Regular",
         "0.069088961",
         "Breakfast",
         "56.3614",
         "OUT046",
         "1997",
         "Small",
         "Tier 1",
         "Supermarket Type1",
         "1547.3192",
         "13",
         "Perishable",
         "Tier 1_Supermarket Type1",
         "1.0280725124413592",
         "High",
         "High_Tier 1",
         "Small_Supermarket Type1",
         "6.262377777777778"
        ],
        [
         "16",
         "NCB42",
         "11.8",
         "Low Fat",
         "0.008596051",
         "Health and Hygiene",
         "115.3492",
         "OUT018",
         "2009",
         "Medium",
         "Tier 3",
         "Supermarket Type2",
         "1621.8888",
         "1",
         "Non-Perishable",
         "Tier 3_Supermarket Type2",
         "1.0031395479206202",
         "High",
         "High_Tier 3",
         "Medium_Supermarket Type2",
         "9.77535593220339"
        ],
        [
         "17",
         "FDP49",
         "9.0",
         "Regular",
         "0.069196376",
         "Breakfast",
         "54.3614",
         "OUT049",
         "1999",
         "Medium",
         "Tier 1",
         "Supermarket Type1",
         "718.3982",
         "11",
         "Perishable",
         "Tier 1_Supermarket Type1",
         "1.0296708923753675",
         "High",
         "High_Tier 1",
         "Medium_Supermarket Type1",
         "6.040155555555556"
        ],
        [
         "18",
         "DRI11",
         "8.26",
         "Low Fat",
         "0.034237682",
         "Hard Drinks",
         "113.2834",
         "OUT027",
         "1985",
         "Medium",
         "Tier 3",
         "Supermarket Type3",
         "2303.668",
         "25",
         "Consumables",
         "Tier 3_Supermarket Type3",
         "0.8704928693111866",
         "High",
         "High_Tier 3",
         "Medium_Supermarket Type3",
         "13.714697336561743"
        ],
        [
         "19",
         "FDU02",
         "13.35",
         "Low Fat",
         "0.10249212",
         "Dairy",
         "230.5352",
         "OUT035",
         "2004",
         "Small",
         "Tier 2",
         "Supermarket Type1",
         "2748.4224",
         "6",
         "Perishable",
         "Tier 2_Supermarket Type1",
         "0.922115518306462",
         "High",
         "High_Tier 2",
         "Small_Supermarket Type1",
         "17.268554307116105"
        ],
        [
         "20",
         "FDN22",
         "18.85",
         "Regular",
         "0.138190277",
         "Snack Foods",
         "250.8724",
         "OUT013",
         "1987",
         "High",
         "Tier 3",
         "Supermarket Type1",
         "3775.086",
         "23",
         "Consumables",
         "Tier 3_Supermarket Type1",
         "1.1399044941112717",
         "High",
         "High_Tier 3",
         "High_Supermarket Type1",
         "13.308880636604773"
        ],
        [
         "21",
         "FDW12",
         "8.315",
         "Regular",
         "0.035399923",
         "Baking Goods",
         "144.5444",
         "OUT027",
         "1985",
         "Medium",
         "Tier 3",
         "Supermarket Type3",
         "4064.0432",
         "25",
         "Non-Perishable",
         "Tier 3_Supermarket Type3",
         "0.9543090781180374",
         "High",
         "High_Tier 3",
         "Medium_Supermarket Type3",
         "17.383571858087794"
        ],
        [
         "22",
         "NCB30",
         "14.6",
         "Low Fat",
         "0.025698134",
         "Household",
         "196.5084",
         "OUT035",
         "2004",
         "Small",
         "Tier 2",
         "Supermarket Type1",
         "1587.2672",
         "6",
         "Non-Perishable",
         "Tier 2_Supermarket Type1",
         "0.8628943947372767",
         "High",
         "High_Tier 2",
         "Small_Supermarket Type1",
         "13.459479452054795"
        ],
        [
         "23",
         "FDC37",
         "15.5",
         "Low Fat",
         "0.057556998",
         "Baking Goods",
         "107.6938",
         "OUT019",
         "1985",
         "Small",
         "Tier 1",
         "Grocery Store",
         "214.3876",
         "25",
         "Non-Perishable",
         "Tier 1_Grocery Store",
         "1.5315371875133976",
         "High",
         "High_Tier 1",
         "Small_Grocery Store",
         "6.9479870967741935"
        ],
        [
         "24",
         "FDR28",
         "13.85",
         "Regular",
         "0.025896485",
         "Frozen Foods",
         "165.021",
         "OUT046",
         "1997",
         "Small",
         "Tier 1",
         "Supermarket Type1",
         "4078.025",
         "13",
         "Perishable",
         "Tier 1_Supermarket Type1",
         "0.9296326154440038",
         "High",
         "High_Tier 1",
         "Small_Supermarket Type1",
         "11.914873646209386"
        ],
        [
         "25",
         "NCD06",
         "13.0",
         "Low Fat",
         "0.099887103",
         "Household",
         "45.906",
         "OUT017",
         "2007",
         "Small",
         "Tier 2",
         "Supermarket Type1",
         "838.908",
         "3",
         "Non-Perishable",
         "Tier 2_Supermarket Type1",
         "0.9275067672165533",
         "High",
         "High_Tier 2",
         "Small_Supermarket Type1",
         "3.531230769230769"
        ],
        [
         "26",
         "FDV10",
         "7.645",
         "Regular",
         "0.066693437",
         "Snack Foods",
         "42.3112",
         "OUT035",
         "2004",
         "Small",
         "Tier 2",
         "Supermarket Type1",
         "1065.28",
         "6",
         "Consumables",
         "Tier 2_Supermarket Type1",
         "1.0602351029427202",
         "High",
         "High_Tier 2",
         "Small_Supermarket Type1",
         "5.534493132766515"
        ],
        [
         "27",
         "DRJ59",
         "11.65",
         "Low Fat",
         "0.019356132",
         "Hard Drinks",
         "39.1164",
         "OUT013",
         "1987",
         "High",
         "Tier 3",
         "Supermarket Type1",
         "308.9312",
         "23",
         "Consumables",
         "Tier 3_Supermarket Type1",
         "1.0352775780298962",
         "High",
         "High_Tier 3",
         "High_Supermarket Type1",
         "3.3576309012875534"
        ],
        [
         "28",
         "FDE51",
         "5.925",
         "Regular",
         "0.161466534",
         "Dairy",
         "45.5086",
         "OUT010",
         "1998",
         "Small",
         "Tier 3",
         "Grocery Store",
         "178.4344",
         "12",
         "Perishable",
         "Tier 3_Grocery Store",
         "1.4445814400022103",
         "High",
         "High_Tier 3",
         "Small_Grocery Store",
         "7.680776371308017"
        ],
        [
         "29",
         "FDC14",
         "14.5",
         "Regular",
         "0.072221801",
         "Canned",
         "43.6454",
         "OUT019",
         "1985",
         "Small",
         "Tier 1",
         "Grocery Store",
         "125.8362",
         "25",
         "Non-Perishable",
         "Tier 1_Grocery Store",
         "1.6790026812832133",
         "High",
         "High_Tier 1",
         "Small_Grocery Store",
         "3.010027586206897"
        ],
        [
         "30",
         "FDV38",
         "19.25",
         "Low Fat",
         "0.170348551",
         "Dairy",
         "55.7956",
         "OUT010",
         "1998",
         "Small",
         "Tier 3",
         "Grocery Store",
         "163.7868",
         "12",
         "Perishable",
         "Tier 3_Grocery Store",
         "1.4641166675359907",
         "High",
         "High_Tier 3",
         "Small_Grocery Store",
         "2.8984727272727273"
        ],
        [
         "31",
         "NCS17",
         "18.6",
         "Low Fat",
         "0.080829372",
         "Health and Hygiene",
         "96.4436",
         "OUT018",
         "2009",
         "Medium",
         "Tier 3",
         "Supermarket Type2",
         "2741.7644",
         "1",
         "Non-Perishable",
         "Tier 3_Supermarket Type2",
         "1.0031395405819457",
         "High",
         "High_Tier 3",
         "Medium_Supermarket Type2",
         "5.185139784946236"
        ],
        [
         "32",
         "FDP33",
         "18.7",
         "Low Fat",
         "0.0",
         "Snack Foods",
         "256.6672",
         "OUT018",
         "2009",
         "Medium",
         "Tier 3",
         "Supermarket Type2",
         "3068.0064",
         "1",
         "Consumables",
         "Tier 3_Supermarket Type2",
         "0.0",
         "High",
         "High_Tier 3",
         "Medium_Supermarket Type2",
         "13.72551871657754"
        ],
        [
         "33",
         "FDO23",
         "17.85",
         "Low Fat",
         "0.0",
         "Breads",
         "93.1436",
         "OUT045",
         "2002",
         "Small",
         "Tier 2",
         "Supermarket Type1",
         "2174.5028",
         "8",
         "Perishable",
         "Tier 2_Supermarket Type1",
         "0.0",
         "High",
         "High_Tier 2",
         "Small_Supermarket Type1",
         "5.218128851540616"
        ],
        [
         "34",
         "DRH01",
         "17.5",
         "Low Fat",
         "0.097904029",
         "Soft Drinks",
         "174.8738",
         "OUT046",
         "1997",
         "Small",
         "Tier 1",
         "Supermarket Type1",
         "2085.2856",
         "13",
         "Consumables",
         "Tier 1_Supermarket Type1",
         "0.9222899199987085",
         "High",
         "High_Tier 1",
         "Small_Supermarket Type1",
         "9.992788571428571"
        ],
        [
         "35",
         "NCX29",
         "10.0",
         "Low Fat",
         "0.089291137",
         "Health and Hygiene",
         "146.7102",
         "OUT049",
         "1999",
         "Medium",
         "Tier 1",
         "Supermarket Type1",
         "3791.0652",
         "11",
         "Non-Perishable",
         "Tier 1_Supermarket Type1",
         "0.8760887635003262",
         "High",
         "High_Tier 1",
         "Medium_Supermarket Type1",
         "14.671019999999999"
        ],
        [
         "36",
         "FDV20",
         "20.2",
         "Regular",
         "0.059511812",
         "Fruits and Vegetables",
         "128.0678",
         "OUT027",
         "1985",
         "Medium",
         "Tier 3",
         "Supermarket Type3",
         "2797.6916",
         "25",
         "Perishable",
         "Tier 3_Supermarket Type3",
         "0.9544539631769143",
         "High",
         "High_Tier 3",
         "Medium_Supermarket Type3",
         "6.339990099009902"
        ],
        [
         "37",
         "DRZ11",
         "8.85",
         "Regular",
         "0.113123893",
         "Soft Drinks",
         "122.5388",
         "OUT018",
         "2009",
         "Medium",
         "Tier 3",
         "Supermarket Type2",
         "1609.9044",
         "1",
         "Consumables",
         "Tier 3_Supermarket Type2",
         "1.0031395349101433",
         "High",
         "High_Tier 3",
         "Medium_Supermarket Type2",
         "13.84619209039548"
        ],
        [
         "38",
         "FDX10",
         "6.385",
         "Regular",
         "0.123111453",
         "Snack Foods",
         "36.9874",
         "OUT027",
         "1985",
         "Medium",
         "Tier 3",
         "Supermarket Type3",
         "388.1614",
         "25",
         "Consumables",
         "Tier 3_Supermarket Type3",
         "1.0227997426879307",
         "High",
         "High_Tier 3",
         "Medium_Supermarket Type3",
         "5.792858261550509"
        ],
        [
         "39",
         "FDB34",
         "15.25",
         "Low Fat",
         "0.026480954",
         "Snack Foods",
         "87.6198",
         "OUT027",
         "1985",
         "Medium",
         "Tier 3",
         "Supermarket Type3",
         "2180.495",
         "25",
         "Consumables",
         "Tier 3_Supermarket Type3",
         "0.9251308290764402",
         "High",
         "High_Tier 3",
         "Medium_Supermarket Type3",
         "5.745560655737704"
        ],
        [
         "40",
         "FDU02",
         "13.35",
         "Low Fat",
         "0.102511504",
         "Dairy",
         "230.6352",
         "OUT046",
         "1997",
         "Small",
         "Tier 1",
         "Supermarket Type1",
         "3435.528",
         "13",
         "Perishable",
         "Tier 1_Supermarket Type1",
         "0.9222899150035627",
         "High",
         "High_Tier 1",
         "Small_Supermarket Type1",
         "17.276044943820224"
        ],
        [
         "41",
         "FDK43",
         "9.8",
         "Low Fat",
         "0.02681843",
         "Meat",
         "126.002",
         "OUT013",
         "1987",
         "High",
         "Tier 3",
         "Supermarket Type1",
         "2150.534",
         "23",
         "Perishable",
         "Tier 3_Supermarket Type1",
         "0.9215224160526706",
         "High",
         "High_Tier 3",
         "High_Supermarket Type1",
         "12.857346938775509"
        ],
        [
         "42",
         "FDA46",
         "13.6",
         "Low Fat",
         "0.117818348",
         "Snack Foods",
         "192.9136",
         "OUT049",
         "1999",
         "Medium",
         "Tier 1",
         "Supermarket Type1",
         "2527.3768",
         "11",
         "Consumables",
         "Tier 1_Supermarket Type1",
         "0.9310779364692868",
         "High",
         "High_Tier 1",
         "Medium_Supermarket Type1",
         "14.184823529411766"
        ],
        [
         "43",
         "FDC02",
         "21.35",
         "Low Fat",
         "0.069102831",
         "Canned",
         "259.9278",
         "OUT018",
         "2009",
         "Medium",
         "Tier 3",
         "Supermarket Type2",
         "6768.5228",
         "1",
         "Non-Perishable",
         "Tier 3_Supermarket Type2",
         "0.9334195377024119",
         "High",
         "High_Tier 3",
         "Medium_Supermarket Type2",
         "12.174604215456673"
        ],
        [
         "44",
         "FDL50",
         "12.15",
         "Regular",
         "0.042277867",
         "Canned",
         "126.5046",
         "OUT013",
         "1987",
         "High",
         "Tier 3",
         "Supermarket Type1",
         "373.5138",
         "23",
         "Non-Perishable",
         "Tier 3_Supermarket Type1",
         "0.9980787902561442",
         "High",
         "High_Tier 3",
         "High_Supermarket Type1",
         "10.411901234567901"
        ],
        [
         "45",
         "FDM39",
         "6.42",
         "Low Fat",
         "0.089498926",
         "Dairy",
         "178.1002",
         "OUT010",
         "1998",
         "Small",
         "Tier 3",
         "Grocery Store",
         "358.2004",
         "12",
         "Perishable",
         "Tier 3_Grocery Store",
         "1.4641166676603148",
         "High",
         "High_Tier 3",
         "Small_Grocery Store",
         "27.74146417445483"
        ],
        [
         "46",
         "NCP05",
         "19.6",
         "Low Fat",
         "0.0",
         "Health and Hygiene",
         "153.3024",
         "OUT045",
         "2002",
         "Small",
         "Tier 2",
         "Supermarket Type1",
         "2428.8384",
         "8",
         "Non-Perishable",
         "Tier 2_Supermarket Type1",
         "0.0",
         "High",
         "High_Tier 2",
         "Small_Supermarket Type1",
         "7.821551020408163"
        ],
        [
         "47",
         "FDV49",
         "10.0",
         "Low Fat",
         "0.025879577",
         "Canned",
         "265.2226",
         "OUT045",
         "2002",
         "Small",
         "Tier 2",
         "Supermarket Type1",
         "5815.0972",
         "8",
         "Non-Perishable",
         "Tier 2_Supermarket Type1",
         "0.9241603460120508",
         "High",
         "High_Tier 2",
         "Small_Supermarket Type1",
         "26.52226"
        ],
        [
         "48",
         "FDL12",
         "15.85",
         "Regular",
         "0.121632721",
         "Baking Goods",
         "60.622",
         "OUT046",
         "1997",
         "Small",
         "Tier 1",
         "Supermarket Type1",
         "2576.646",
         "13",
         "Non-Perishable",
         "Tier 1_Supermarket Type1",
         "0.8747287915078714",
         "High",
         "High_Tier 1",
         "Small_Supermarket Type1",
         "3.8247318611987384"
        ],
        [
         "49",
         "FDS02",
         "10.195",
         "Regular",
         "0.255394896",
         "Dairy",
         "196.8794",
         "OUT019",
         "1985",
         "Small",
         "Tier 1",
         "Grocery Store",
         "780.3176",
         "25",
         "Perishable",
         "Tier 1_Grocery Store",
         "2.03088772479079",
         "Low",
         "Low_Tier 1",
         "Small_Grocery Store",
         "19.311368317802845"
        ]
       ],
       "shape": {
        "columns": 20,
        "rows": 14204
       }
      },
      "text/html": [
       "<div>\n",
       "<style scoped>\n",
       "    .dataframe tbody tr th:only-of-type {\n",
       "        vertical-align: middle;\n",
       "    }\n",
       "\n",
       "    .dataframe tbody tr th {\n",
       "        vertical-align: top;\n",
       "    }\n",
       "\n",
       "    .dataframe thead th {\n",
       "        text-align: right;\n",
       "    }\n",
       "</style>\n",
       "<table border=\"1\" class=\"dataframe\">\n",
       "  <thead>\n",
       "    <tr style=\"text-align: right;\">\n",
       "      <th></th>\n",
       "      <th>Item_Identifier</th>\n",
       "      <th>Item_Weight</th>\n",
       "      <th>Item_Fat_Content</th>\n",
       "      <th>Item_Visibility</th>\n",
       "      <th>Item_Type</th>\n",
       "      <th>Item_MRP</th>\n",
       "      <th>Outlet_Identifier</th>\n",
       "      <th>Outlet_Establishment_Year</th>\n",
       "      <th>Outlet_Size</th>\n",
       "      <th>Outlet_Location_Type</th>\n",
       "      <th>Outlet_Type</th>\n",
       "      <th>Item_Outlet_Sales</th>\n",
       "      <th>Outlet_Years</th>\n",
       "      <th>Item_Category_Grouped</th>\n",
       "      <th>Outlet_Type_Location</th>\n",
       "      <th>Item_Visibility_MeanRatio</th>\n",
       "      <th>Visibility_Bin</th>\n",
       "      <th>Visibility_Bin_Location</th>\n",
       "      <th>Outlet_Size_Type</th>\n",
       "      <th>Price_per_kg</th>\n",
       "    </tr>\n",
       "  </thead>\n",
       "  <tbody>\n",
       "    <tr>\n",
       "      <th>0</th>\n",
       "      <td>FDA15</td>\n",
       "      <td>9.30</td>\n",
       "      <td>Low Fat</td>\n",
       "      <td>0.016047</td>\n",
       "      <td>Dairy</td>\n",
       "      <td>249.8092</td>\n",
       "      <td>OUT049</td>\n",
       "      <td>1999</td>\n",
       "      <td>Medium</td>\n",
       "      <td>Tier 1</td>\n",
       "      <td>Supermarket Type1</td>\n",
       "      <td>3735.1380</td>\n",
       "      <td>11</td>\n",
       "      <td>Perishable</td>\n",
       "      <td>Tier 1_Supermarket Type1</td>\n",
       "      <td>0.931078</td>\n",
       "      <td>High</td>\n",
       "      <td>High_Tier 1</td>\n",
       "      <td>Medium_Supermarket Type1</td>\n",
       "      <td>26.861204</td>\n",
       "    </tr>\n",
       "    <tr>\n",
       "      <th>1</th>\n",
       "      <td>DRC01</td>\n",
       "      <td>5.92</td>\n",
       "      <td>Regular</td>\n",
       "      <td>0.019278</td>\n",
       "      <td>Soft Drinks</td>\n",
       "      <td>48.2692</td>\n",
       "      <td>OUT018</td>\n",
       "      <td>2009</td>\n",
       "      <td>Medium</td>\n",
       "      <td>Tier 3</td>\n",
       "      <td>Supermarket Type2</td>\n",
       "      <td>443.4228</td>\n",
       "      <td>1</td>\n",
       "      <td>Consumables</td>\n",
       "      <td>Tier 3_Supermarket Type2</td>\n",
       "      <td>0.933420</td>\n",
       "      <td>High</td>\n",
       "      <td>High_Tier 3</td>\n",
       "      <td>Medium_Supermarket Type2</td>\n",
       "      <td>8.153581</td>\n",
       "    </tr>\n",
       "    <tr>\n",
       "      <th>2</th>\n",
       "      <td>FDN15</td>\n",
       "      <td>17.50</td>\n",
       "      <td>Low Fat</td>\n",
       "      <td>0.016760</td>\n",
       "      <td>Meat</td>\n",
       "      <td>141.6180</td>\n",
       "      <td>OUT049</td>\n",
       "      <td>1999</td>\n",
       "      <td>Medium</td>\n",
       "      <td>Tier 1</td>\n",
       "      <td>Supermarket Type1</td>\n",
       "      <td>2097.2700</td>\n",
       "      <td>11</td>\n",
       "      <td>Perishable</td>\n",
       "      <td>Tier 1_Supermarket Type1</td>\n",
       "      <td>0.960069</td>\n",
       "      <td>High</td>\n",
       "      <td>High_Tier 1</td>\n",
       "      <td>Medium_Supermarket Type1</td>\n",
       "      <td>8.092457</td>\n",
       "    </tr>\n",
       "    <tr>\n",
       "      <th>3</th>\n",
       "      <td>FDX07</td>\n",
       "      <td>19.20</td>\n",
       "      <td>Regular</td>\n",
       "      <td>0.000000</td>\n",
       "      <td>Fruits and Vegetables</td>\n",
       "      <td>182.0950</td>\n",
       "      <td>OUT010</td>\n",
       "      <td>1998</td>\n",
       "      <td>Small</td>\n",
       "      <td>Tier 3</td>\n",
       "      <td>Grocery Store</td>\n",
       "      <td>732.3800</td>\n",
       "      <td>12</td>\n",
       "      <td>Perishable</td>\n",
       "      <td>Tier 3_Grocery Store</td>\n",
       "      <td>0.000000</td>\n",
       "      <td>High</td>\n",
       "      <td>High_Tier 3</td>\n",
       "      <td>Small_Grocery Store</td>\n",
       "      <td>9.484115</td>\n",
       "    </tr>\n",
       "    <tr>\n",
       "      <th>4</th>\n",
       "      <td>NCD19</td>\n",
       "      <td>8.93</td>\n",
       "      <td>Low Fat</td>\n",
       "      <td>0.000000</td>\n",
       "      <td>Household</td>\n",
       "      <td>53.8614</td>\n",
       "      <td>OUT013</td>\n",
       "      <td>1987</td>\n",
       "      <td>High</td>\n",
       "      <td>Tier 3</td>\n",
       "      <td>Supermarket Type1</td>\n",
       "      <td>994.7052</td>\n",
       "      <td>23</td>\n",
       "      <td>Non-Perishable</td>\n",
       "      <td>Tier 3_Supermarket Type1</td>\n",
       "      <td>0.000000</td>\n",
       "      <td>High</td>\n",
       "      <td>High_Tier 3</td>\n",
       "      <td>High_Supermarket Type1</td>\n",
       "      <td>6.031512</td>\n",
       "    </tr>\n",
       "    <tr>\n",
       "      <th>...</th>\n",
       "      <td>...</td>\n",
       "      <td>...</td>\n",
       "      <td>...</td>\n",
       "      <td>...</td>\n",
       "      <td>...</td>\n",
       "      <td>...</td>\n",
       "      <td>...</td>\n",
       "      <td>...</td>\n",
       "      <td>...</td>\n",
       "      <td>...</td>\n",
       "      <td>...</td>\n",
       "      <td>...</td>\n",
       "      <td>...</td>\n",
       "      <td>...</td>\n",
       "      <td>...</td>\n",
       "      <td>...</td>\n",
       "      <td>...</td>\n",
       "      <td>...</td>\n",
       "      <td>...</td>\n",
       "      <td>...</td>\n",
       "    </tr>\n",
       "    <tr>\n",
       "      <th>14199</th>\n",
       "      <td>FDB58</td>\n",
       "      <td>10.50</td>\n",
       "      <td>Regular</td>\n",
       "      <td>0.013496</td>\n",
       "      <td>Snack Foods</td>\n",
       "      <td>141.3154</td>\n",
       "      <td>OUT046</td>\n",
       "      <td>1997</td>\n",
       "      <td>Small</td>\n",
       "      <td>Tier 1</td>\n",
       "      <td>Supermarket Type1</td>\n",
       "      <td>NaN</td>\n",
       "      <td>13</td>\n",
       "      <td>Consumables</td>\n",
       "      <td>Tier 1_Supermarket Type1</td>\n",
       "      <td>0.874729</td>\n",
       "      <td>High</td>\n",
       "      <td>High_Tier 1</td>\n",
       "      <td>Small_Supermarket Type1</td>\n",
       "      <td>13.458610</td>\n",
       "    </tr>\n",
       "    <tr>\n",
       "      <th>14200</th>\n",
       "      <td>FDD47</td>\n",
       "      <td>7.60</td>\n",
       "      <td>Regular</td>\n",
       "      <td>0.142991</td>\n",
       "      <td>Starchy Foods</td>\n",
       "      <td>169.1448</td>\n",
       "      <td>OUT018</td>\n",
       "      <td>2009</td>\n",
       "      <td>Medium</td>\n",
       "      <td>Tier 3</td>\n",
       "      <td>Supermarket Type2</td>\n",
       "      <td>NaN</td>\n",
       "      <td>1</td>\n",
       "      <td>Non-Perishable</td>\n",
       "      <td>Tier 3_Supermarket Type2</td>\n",
       "      <td>0.878292</td>\n",
       "      <td>High</td>\n",
       "      <td>High_Tier 3</td>\n",
       "      <td>Medium_Supermarket Type2</td>\n",
       "      <td>22.255895</td>\n",
       "    </tr>\n",
       "    <tr>\n",
       "      <th>14201</th>\n",
       "      <td>NCO17</td>\n",
       "      <td>10.00</td>\n",
       "      <td>Low Fat</td>\n",
       "      <td>0.073529</td>\n",
       "      <td>Health and Hygiene</td>\n",
       "      <td>118.7440</td>\n",
       "      <td>OUT045</td>\n",
       "      <td>2002</td>\n",
       "      <td>Small</td>\n",
       "      <td>Tier 2</td>\n",
       "      <td>Supermarket Type1</td>\n",
       "      <td>NaN</td>\n",
       "      <td>8</td>\n",
       "      <td>Non-Perishable</td>\n",
       "      <td>Tier 2_Supermarket Type1</td>\n",
       "      <td>1.162245</td>\n",
       "      <td>High</td>\n",
       "      <td>High_Tier 2</td>\n",
       "      <td>Small_Supermarket Type1</td>\n",
       "      <td>11.874400</td>\n",
       "    </tr>\n",
       "    <tr>\n",
       "      <th>14202</th>\n",
       "      <td>FDJ26</td>\n",
       "      <td>15.30</td>\n",
       "      <td>Regular</td>\n",
       "      <td>0.000000</td>\n",
       "      <td>Canned</td>\n",
       "      <td>214.6218</td>\n",
       "      <td>OUT017</td>\n",
       "      <td>2007</td>\n",
       "      <td>Small</td>\n",
       "      <td>Tier 2</td>\n",
       "      <td>Supermarket Type1</td>\n",
       "      <td>NaN</td>\n",
       "      <td>3</td>\n",
       "      <td>Non-Perishable</td>\n",
       "      <td>Tier 2_Supermarket Type1</td>\n",
       "      <td>0.000000</td>\n",
       "      <td>High</td>\n",
       "      <td>High_Tier 2</td>\n",
       "      <td>Small_Supermarket Type1</td>\n",
       "      <td>14.027569</td>\n",
       "    </tr>\n",
       "    <tr>\n",
       "      <th>14203</th>\n",
       "      <td>FDU37</td>\n",
       "      <td>9.50</td>\n",
       "      <td>Regular</td>\n",
       "      <td>0.104720</td>\n",
       "      <td>Canned</td>\n",
       "      <td>79.7960</td>\n",
       "      <td>OUT045</td>\n",
       "      <td>2002</td>\n",
       "      <td>Small</td>\n",
       "      <td>Tier 2</td>\n",
       "      <td>Supermarket Type1</td>\n",
       "      <td>NaN</td>\n",
       "      <td>8</td>\n",
       "      <td>Non-Perishable</td>\n",
       "      <td>Tier 2_Supermarket Type1</td>\n",
       "      <td>1.029678</td>\n",
       "      <td>High</td>\n",
       "      <td>High_Tier 2</td>\n",
       "      <td>Small_Supermarket Type1</td>\n",
       "      <td>8.399579</td>\n",
       "    </tr>\n",
       "  </tbody>\n",
       "</table>\n",
       "<p>14204 rows × 20 columns</p>\n",
       "</div>"
      ],
      "text/plain": [
       "      Item_Identifier  Item_Weight Item_Fat_Content  Item_Visibility  \\\n",
       "0               FDA15         9.30          Low Fat         0.016047   \n",
       "1               DRC01         5.92          Regular         0.019278   \n",
       "2               FDN15        17.50          Low Fat         0.016760   \n",
       "3               FDX07        19.20          Regular         0.000000   \n",
       "4               NCD19         8.93          Low Fat         0.000000   \n",
       "...               ...          ...              ...              ...   \n",
       "14199           FDB58        10.50          Regular         0.013496   \n",
       "14200           FDD47         7.60          Regular         0.142991   \n",
       "14201           NCO17        10.00          Low Fat         0.073529   \n",
       "14202           FDJ26        15.30          Regular         0.000000   \n",
       "14203           FDU37         9.50          Regular         0.104720   \n",
       "\n",
       "                   Item_Type  Item_MRP Outlet_Identifier  \\\n",
       "0                      Dairy  249.8092            OUT049   \n",
       "1                Soft Drinks   48.2692            OUT018   \n",
       "2                       Meat  141.6180            OUT049   \n",
       "3      Fruits and Vegetables  182.0950            OUT010   \n",
       "4                  Household   53.8614            OUT013   \n",
       "...                      ...       ...               ...   \n",
       "14199            Snack Foods  141.3154            OUT046   \n",
       "14200          Starchy Foods  169.1448            OUT018   \n",
       "14201     Health and Hygiene  118.7440            OUT045   \n",
       "14202                 Canned  214.6218            OUT017   \n",
       "14203                 Canned   79.7960            OUT045   \n",
       "\n",
       "       Outlet_Establishment_Year Outlet_Size Outlet_Location_Type  \\\n",
       "0                           1999      Medium               Tier 1   \n",
       "1                           2009      Medium               Tier 3   \n",
       "2                           1999      Medium               Tier 1   \n",
       "3                           1998       Small               Tier 3   \n",
       "4                           1987        High               Tier 3   \n",
       "...                          ...         ...                  ...   \n",
       "14199                       1997       Small               Tier 1   \n",
       "14200                       2009      Medium               Tier 3   \n",
       "14201                       2002       Small               Tier 2   \n",
       "14202                       2007       Small               Tier 2   \n",
       "14203                       2002       Small               Tier 2   \n",
       "\n",
       "             Outlet_Type  Item_Outlet_Sales  Outlet_Years  \\\n",
       "0      Supermarket Type1          3735.1380            11   \n",
       "1      Supermarket Type2           443.4228             1   \n",
       "2      Supermarket Type1          2097.2700            11   \n",
       "3          Grocery Store           732.3800            12   \n",
       "4      Supermarket Type1           994.7052            23   \n",
       "...                  ...                ...           ...   \n",
       "14199  Supermarket Type1                NaN            13   \n",
       "14200  Supermarket Type2                NaN             1   \n",
       "14201  Supermarket Type1                NaN             8   \n",
       "14202  Supermarket Type1                NaN             3   \n",
       "14203  Supermarket Type1                NaN             8   \n",
       "\n",
       "      Item_Category_Grouped      Outlet_Type_Location  \\\n",
       "0                Perishable  Tier 1_Supermarket Type1   \n",
       "1               Consumables  Tier 3_Supermarket Type2   \n",
       "2                Perishable  Tier 1_Supermarket Type1   \n",
       "3                Perishable      Tier 3_Grocery Store   \n",
       "4            Non-Perishable  Tier 3_Supermarket Type1   \n",
       "...                     ...                       ...   \n",
       "14199           Consumables  Tier 1_Supermarket Type1   \n",
       "14200        Non-Perishable  Tier 3_Supermarket Type2   \n",
       "14201        Non-Perishable  Tier 2_Supermarket Type1   \n",
       "14202        Non-Perishable  Tier 2_Supermarket Type1   \n",
       "14203        Non-Perishable  Tier 2_Supermarket Type1   \n",
       "\n",
       "       Item_Visibility_MeanRatio Visibility_Bin Visibility_Bin_Location  \\\n",
       "0                       0.931078           High             High_Tier 1   \n",
       "1                       0.933420           High             High_Tier 3   \n",
       "2                       0.960069           High             High_Tier 1   \n",
       "3                       0.000000           High             High_Tier 3   \n",
       "4                       0.000000           High             High_Tier 3   \n",
       "...                          ...            ...                     ...   \n",
       "14199                   0.874729           High             High_Tier 1   \n",
       "14200                   0.878292           High             High_Tier 3   \n",
       "14201                   1.162245           High             High_Tier 2   \n",
       "14202                   0.000000           High             High_Tier 2   \n",
       "14203                   1.029678           High             High_Tier 2   \n",
       "\n",
       "               Outlet_Size_Type  Price_per_kg  \n",
       "0      Medium_Supermarket Type1     26.861204  \n",
       "1      Medium_Supermarket Type2      8.153581  \n",
       "2      Medium_Supermarket Type1      8.092457  \n",
       "3           Small_Grocery Store      9.484115  \n",
       "4        High_Supermarket Type1      6.031512  \n",
       "...                         ...           ...  \n",
       "14199   Small_Supermarket Type1     13.458610  \n",
       "14200  Medium_Supermarket Type2     22.255895  \n",
       "14201   Small_Supermarket Type1     11.874400  \n",
       "14202   Small_Supermarket Type1     14.027569  \n",
       "14203   Small_Supermarket Type1      8.399579  \n",
       "\n",
       "[14204 rows x 20 columns]"
      ]
     },
     "execution_count": 37,
     "metadata": {},
     "output_type": "execute_result"
    }
   ],
   "source": [
    "data"
   ]
  },
  {
   "cell_type": "code",
   "execution_count": 38,
   "id": "f1a5e050",
   "metadata": {},
   "outputs": [],
   "source": [
    "ID_columns = ['Item_Identifier', 'Outlet_Identifier']"
   ]
  },
  {
   "cell_type": "code",
   "execution_count": 39,
   "id": "90174a33",
   "metadata": {},
   "outputs": [],
   "source": [
    "train_df = data[~data['Item_Outlet_Sales'].isna()]\n"
   ]
  },
  {
   "cell_type": "code",
   "execution_count": 40,
   "id": "1bfdfaf6",
   "metadata": {},
   "outputs": [],
   "source": [
    "### outlet specific metrics \n",
    "\n",
    "outlet_avg_sales = train_df.groupby('Outlet_Identifier')['Item_Outlet_Sales'].mean().to_dict()\n",
    "data['Outlet_Avg_Sales'] = data['Outlet_Identifier'].map(outlet_avg_sales)\n",
    "\n",
    "\n",
    "outlet_var_sales = train_df.groupby('Outlet_Identifier')['Item_Outlet_Sales'].var().to_dict()\n",
    "data['Outlet_Var_Sales'] = data['Outlet_Identifier'].map(outlet_var_sales)\n",
    "\n",
    "\n",
    "outlet_size_avg_sales = train_df.groupby('Outlet_Size')['Item_Outlet_Sales'].mean().to_dict()\n",
    "data['Outlet_Size_Avg_Sales'] = data['Outlet_Size'].map(outlet_size_avg_sales)\n",
    "\n",
    "outlet_location_avg_sales = train_df.groupby('Outlet_Location_Type')['Item_Outlet_Sales'].mean().to_dict()\n",
    "data['Outlet_Type_Avg_Sales'] = data['Outlet_Location_Type'].map(outlet_location_avg_sales)\n",
    "\n",
    "\n",
    "outlet_item_count = train_df.groupby('Outlet_Identifier')['Item_Identifier'].nunique().to_dict()\n",
    "data['Outlet_Item_Count'] = data['Outlet_Identifier'].map(outlet_item_count)\n",
    "\n",
    "### Item specific metrics\n",
    "\n",
    "item_avg_sales = train_df.groupby('Item_Identifier')['Item_Outlet_Sales'].mean().to_dict()\n",
    "data['Item_Avg_Sales'] = data['Item_Identifier'].map(item_avg_sales)\n",
    "\n",
    "\n",
    "item_var_sales = train_df.groupby('Item_Identifier')['Item_Outlet_Sales'].var().to_dict()\n",
    "data['Item_Var_Sales'] = data['Item_Identifier'].map(item_var_sales)"
   ]
  },
  {
   "cell_type": "code",
   "execution_count": 47,
   "id": "80cf96c3",
   "metadata": {},
   "outputs": [],
   "source": [
    "# Get list of categorical columns\n",
    "categorical_cols_le = data.select_dtypes(include=['object', 'category']).columns.tolist()\n",
    "\n",
    "# Apply LabelEncoder to each categorical column\n",
    "le = LabelEncoder()\n",
    "for col in categorical_cols_le:\n",
    "    data[col] = le.fit_transform(data[col])"
   ]
  },
  {
   "cell_type": "code",
   "execution_count": 48,
   "id": "d20cd60f",
   "metadata": {},
   "outputs": [],
   "source": [
    "train_df = data[~data['Item_Outlet_Sales'].isna()]\n",
    "\n",
    "test_df = data[data['Item_Outlet_Sales'].isna()]"
   ]
  },
  {
   "cell_type": "code",
   "execution_count": 146,
   "id": "f1f53e48",
   "metadata": {},
   "outputs": [],
   "source": [
    "# Final list of features\n",
    "features = [\n",
    "    'Item_Weight',\n",
    "    'Item_Visibility', \n",
    "    'Item_MRP',\n",
    "    # 'Price_per_kg',\n",
    "    'Outlet_Years',\n",
    "    'Item_Fat_Content', \n",
    "    'Outlet_Location_Type',\n",
    "    'Outlet_Size', \n",
    "    'Outlet_Type', \n",
    "    'Item_Category_Grouped', \n",
    "    'Outlet_Avg_Sales', \n",
    "    'Outlet_Size_Type',\n",
    "    'Outlet_Type_Location',\n",
    "    'Item_Visibility_MeanRatio',\n",
    "    'Outlet_Var_Sales', \n",
    "    # \"Outlet_Item_Count\",\n",
    "    # 'Outlet_Type_Avg_Sales',\n",
    "    # 'Item_Avg_Sales', \n",
    "    # 'Item_Var_Sales',\n",
    "    # 'Visibility_Bin',\n",
    "    # 'Visibility_Bin_Location'\n",
    "]\n",
    "# categorical_cols = ['Item_Fat_Content', 'Outlet_Location_Type', 'Outlet_Size', 'Outlet_Type', 'Item_Category_Grouped','Outlet_Size_Type','Outlet_Type_Location']\n",
    "\n",
    "# features = [\n",
    "#     'Item_Weight', 'Item_Visibility', 'Item_MRP',\n",
    "#     'Outlet_Years',\n",
    "#     'Outlet_Location_Type',\n",
    "#     ]"
   ]
  },
  {
   "cell_type": "code",
   "execution_count": null,
   "id": "8abe2cda",
   "metadata": {},
   "outputs": [],
   "source": []
  },
  {
   "cell_type": "code",
   "execution_count": 147,
   "id": "da1a1bdc",
   "metadata": {},
   "outputs": [],
   "source": [
    "#### now further split train into train and validation\n",
    "\n",
    "X = train_df[features]\n",
    "y = train_df['Item_Outlet_Sales']\n",
    "# y = np.log1p(y)  # Log transformation to reduce skewness\n",
    "X_train, X_val, y_train, y_val = train_test_split(X, y, test_size=0.2, random_state=42)"
   ]
  },
  {
   "cell_type": "code",
   "execution_count": 148,
   "id": "950ee7c4",
   "metadata": {},
   "outputs": [],
   "source": [
    "X_test = test_df[features]"
   ]
  },
  {
   "cell_type": "code",
   "execution_count": 151,
   "id": "8f04a033",
   "metadata": {},
   "outputs": [
    {
     "name": "stderr",
     "output_type": "stream",
     "text": [
      "d:\\Anconda_new\\Lib\\site-packages\\sklearn\\linear_model\\_coordinate_descent.py:631: ConvergenceWarning: Objective did not converge. You might want to increase the number of iterations, check the scale of the features or consider increasing regularisation. Duality gap: 4.445e+09, tolerance: 2.017e+06\n",
      "  model = cd_fast.enet_coordinate_descent(\n",
      "d:\\Anconda_new\\Lib\\site-packages\\sklearn\\linear_model\\_coordinate_descent.py:631: ConvergenceWarning: Objective did not converge. You might want to increase the number of iterations, check the scale of the features or consider increasing regularisation. Duality gap: 4.446e+09, tolerance: 2.017e+06\n",
      "  model = cd_fast.enet_coordinate_descent(\n"
     ]
    },
    {
     "data": {
      "application/vnd.microsoft.datawrangler.viewer.v0+json": {
       "columns": [
        {
         "name": "index",
         "rawType": "int64",
         "type": "integer"
        },
        {
         "name": "Model",
         "rawType": "object",
         "type": "string"
        },
        {
         "name": "RMSE_Train",
         "rawType": "float64",
         "type": "float"
        },
        {
         "name": "R2_Train",
         "rawType": "float64",
         "type": "float"
        },
        {
         "name": "RMSE_val",
         "rawType": "float64",
         "type": "float"
        },
        {
         "name": "R2_val",
         "rawType": "float64",
         "type": "float"
        }
       ],
       "ref": "b4e7a4c7-9f1e-4d25-9ae1-0858f3f8f5c5",
       "rows": [
        [
         "0",
         "Linear Regression",
         "1142.24",
         "0.56",
         "1067.19",
         "0.58"
        ],
        [
         "1",
         "Ridge Regression",
         "1142.24",
         "0.56",
         "1067.12",
         "0.58"
        ],
        [
         "2",
         "Lasso Regression",
         "1142.24",
         "0.56",
         "1067.2",
         "0.58"
        ],
        [
         "3",
         "ElasticNet",
         "1142.35",
         "0.56",
         "1066.5",
         "0.58"
        ],
        [
         "4",
         "Decision Tree",
         "944.34",
         "0.7",
         "1143.24",
         "0.52"
        ],
        [
         "5",
         "Random Forest",
         "899.59",
         "0.73",
         "1032.82",
         "0.61"
        ],
        [
         "6",
         "Extra Trees",
         "0.05",
         "1.0",
         "1103.42",
         "0.55"
        ],
        [
         "7",
         "AdaBoost",
         "1122.31",
         "0.57",
         "1074.02",
         "0.58"
        ],
        [
         "8",
         "Gradient Boosting",
         "920.75",
         "0.71",
         "1053.76",
         "0.59"
        ],
        [
         "9",
         "XGBoost",
         "862.09",
         "0.75",
         "1051.69",
         "0.59"
        ],
        [
         "10",
         "K-Nearest Neighbors",
         "968.64",
         "0.68",
         "1121.05",
         "0.54"
        ],
        [
         "11",
         "Support Vector Regressor",
         "1669.22",
         "0.06",
         "1567.35",
         "0.1"
        ]
       ],
       "shape": {
        "columns": 5,
        "rows": 12
       }
      },
      "text/html": [
       "<div>\n",
       "<style scoped>\n",
       "    .dataframe tbody tr th:only-of-type {\n",
       "        vertical-align: middle;\n",
       "    }\n",
       "\n",
       "    .dataframe tbody tr th {\n",
       "        vertical-align: top;\n",
       "    }\n",
       "\n",
       "    .dataframe thead th {\n",
       "        text-align: right;\n",
       "    }\n",
       "</style>\n",
       "<table border=\"1\" class=\"dataframe\">\n",
       "  <thead>\n",
       "    <tr style=\"text-align: right;\">\n",
       "      <th></th>\n",
       "      <th>Model</th>\n",
       "      <th>RMSE_Train</th>\n",
       "      <th>R2_Train</th>\n",
       "      <th>RMSE_val</th>\n",
       "      <th>R2_val</th>\n",
       "    </tr>\n",
       "  </thead>\n",
       "  <tbody>\n",
       "    <tr>\n",
       "      <th>0</th>\n",
       "      <td>Linear Regression</td>\n",
       "      <td>1142.24</td>\n",
       "      <td>0.56</td>\n",
       "      <td>1067.19</td>\n",
       "      <td>0.58</td>\n",
       "    </tr>\n",
       "    <tr>\n",
       "      <th>1</th>\n",
       "      <td>Ridge Regression</td>\n",
       "      <td>1142.24</td>\n",
       "      <td>0.56</td>\n",
       "      <td>1067.12</td>\n",
       "      <td>0.58</td>\n",
       "    </tr>\n",
       "    <tr>\n",
       "      <th>2</th>\n",
       "      <td>Lasso Regression</td>\n",
       "      <td>1142.24</td>\n",
       "      <td>0.56</td>\n",
       "      <td>1067.20</td>\n",
       "      <td>0.58</td>\n",
       "    </tr>\n",
       "    <tr>\n",
       "      <th>3</th>\n",
       "      <td>ElasticNet</td>\n",
       "      <td>1142.35</td>\n",
       "      <td>0.56</td>\n",
       "      <td>1066.50</td>\n",
       "      <td>0.58</td>\n",
       "    </tr>\n",
       "    <tr>\n",
       "      <th>4</th>\n",
       "      <td>Decision Tree</td>\n",
       "      <td>944.34</td>\n",
       "      <td>0.70</td>\n",
       "      <td>1143.24</td>\n",
       "      <td>0.52</td>\n",
       "    </tr>\n",
       "    <tr>\n",
       "      <th>5</th>\n",
       "      <td>Random Forest</td>\n",
       "      <td>899.59</td>\n",
       "      <td>0.73</td>\n",
       "      <td>1032.82</td>\n",
       "      <td>0.61</td>\n",
       "    </tr>\n",
       "    <tr>\n",
       "      <th>6</th>\n",
       "      <td>Extra Trees</td>\n",
       "      <td>0.05</td>\n",
       "      <td>1.00</td>\n",
       "      <td>1103.42</td>\n",
       "      <td>0.55</td>\n",
       "    </tr>\n",
       "    <tr>\n",
       "      <th>7</th>\n",
       "      <td>AdaBoost</td>\n",
       "      <td>1122.31</td>\n",
       "      <td>0.57</td>\n",
       "      <td>1074.02</td>\n",
       "      <td>0.58</td>\n",
       "    </tr>\n",
       "    <tr>\n",
       "      <th>8</th>\n",
       "      <td>Gradient Boosting</td>\n",
       "      <td>920.75</td>\n",
       "      <td>0.71</td>\n",
       "      <td>1053.76</td>\n",
       "      <td>0.59</td>\n",
       "    </tr>\n",
       "    <tr>\n",
       "      <th>9</th>\n",
       "      <td>XGBoost</td>\n",
       "      <td>862.09</td>\n",
       "      <td>0.75</td>\n",
       "      <td>1051.69</td>\n",
       "      <td>0.59</td>\n",
       "    </tr>\n",
       "    <tr>\n",
       "      <th>10</th>\n",
       "      <td>K-Nearest Neighbors</td>\n",
       "      <td>968.64</td>\n",
       "      <td>0.68</td>\n",
       "      <td>1121.05</td>\n",
       "      <td>0.54</td>\n",
       "    </tr>\n",
       "    <tr>\n",
       "      <th>11</th>\n",
       "      <td>Support Vector Regressor</td>\n",
       "      <td>1669.22</td>\n",
       "      <td>0.06</td>\n",
       "      <td>1567.35</td>\n",
       "      <td>0.10</td>\n",
       "    </tr>\n",
       "  </tbody>\n",
       "</table>\n",
       "</div>"
      ],
      "text/plain": [
       "                       Model  RMSE_Train  R2_Train  RMSE_val  R2_val\n",
       "0          Linear Regression     1142.24      0.56   1067.19    0.58\n",
       "1           Ridge Regression     1142.24      0.56   1067.12    0.58\n",
       "2           Lasso Regression     1142.24      0.56   1067.20    0.58\n",
       "3                 ElasticNet     1142.35      0.56   1066.50    0.58\n",
       "4              Decision Tree      944.34      0.70   1143.24    0.52\n",
       "5              Random Forest      899.59      0.73   1032.82    0.61\n",
       "6                Extra Trees        0.05      1.00   1103.42    0.55\n",
       "7                   AdaBoost     1122.31      0.57   1074.02    0.58\n",
       "8          Gradient Boosting      920.75      0.71   1053.76    0.59\n",
       "9                    XGBoost      862.09      0.75   1051.69    0.59\n",
       "10       K-Nearest Neighbors      968.64      0.68   1121.05    0.54\n",
       "11  Support Vector Regressor     1669.22      0.06   1567.35    0.10"
      ]
     },
     "execution_count": 151,
     "metadata": {},
     "output_type": "execute_result"
    }
   ],
   "source": [
    "### trying different models\n",
    "\n",
    "\n",
    "models = {\n",
    "    \"Linear Regression\": LinearRegression(),\n",
    "    \"Ridge Regression\": Ridge(alpha=1.0),\n",
    "    \"Lasso Regression\": Lasso(alpha=0.01),\n",
    "    \"ElasticNet\": ElasticNet(alpha=0.01, l1_ratio=0.5),\n",
    "    \n",
    "    \"Decision Tree\": DecisionTreeRegressor(max_depth=10, random_state=42),\n",
    "    \"Random Forest\": RandomForestRegressor(n_estimators=100, max_depth=10, random_state=42),\n",
    "    \"Extra Trees\": ExtraTreesRegressor(n_estimators=100, random_state=42),\n",
    "    \n",
    "    \"AdaBoost\": AdaBoostRegressor(n_estimators=100, learning_rate=0.1, random_state=42),\n",
    "    \"Gradient Boosting\": GradientBoostingRegressor(n_estimators=100, learning_rate=0.1, max_depth=5, random_state=42),\n",
    "    \"XGBoost\": XGBRegressor(n_estimators=100, learning_rate=0.1, max_depth=6, random_state=42),\n",
    "    \n",
    "    \"K-Nearest Neighbors\": KNeighborsRegressor(n_neighbors=5),\n",
    "    \"Support Vector Regressor\": SVR(kernel='rbf', C=1.0, epsilon=0.2)\n",
    "}\n",
    "\n",
    "metrics = []\n",
    "for name, model in models.items():\n",
    "    model.fit(X_train, y_train)\n",
    "    train_preds = model.predict(X_train)\n",
    "    val_preds = model.predict(X_val)\n",
    "    \n",
    "    rmse_train = np.sqrt(mean_squared_error(y_train, train_preds))\n",
    "    r2_train = r2_score(y_train, train_preds)\n",
    "    rmse_val = np.sqrt(mean_squared_error(y_val, val_preds))\n",
    "    r2_val = r2_score(y_val, val_preds)\n",
    "    \n",
    "    metrics.append({\n",
    "        'Model': name,\n",
    "        'RMSE_Train': round(rmse_train, 2),\n",
    "        'R2_Train': round(r2_train, 2),\n",
    "        'RMSE_val': round(rmse_val, 2),\n",
    "        'R2_val': round(r2_val, 2)\n",
    "    })\n",
    "\n",
    "# Convert to DataFrame\n",
    "metrics_df = pd.DataFrame(metrics)\n",
    "metrics_df"
   ]
  },
  {
   "cell_type": "code",
   "execution_count": 156,
   "id": "2b509164",
   "metadata": {},
   "outputs": [
    {
     "name": "stderr",
     "output_type": "stream",
     "text": [
      "[Parallel(n_jobs=-1)]: Using backend ThreadingBackend with 6 concurrent workers.\n",
      "[Parallel(n_jobs=-1)]: Done  38 tasks      | elapsed:    0.0s\n",
      "[Parallel(n_jobs=-1)]: Done  50 out of  50 | elapsed:    0.1s finished\n",
      "[Parallel(n_jobs=6)]: Using backend ThreadingBackend with 6 concurrent workers.\n",
      "[Parallel(n_jobs=6)]: Done  38 tasks      | elapsed:    0.0s\n",
      "[Parallel(n_jobs=6)]: Done  50 out of  50 | elapsed:    0.0s finished\n",
      "[Parallel(n_jobs=6)]: Using backend ThreadingBackend with 6 concurrent workers.\n",
      "[Parallel(n_jobs=6)]: Done  38 tasks      | elapsed:    0.0s\n",
      "[Parallel(n_jobs=6)]: Done  50 out of  50 | elapsed:    0.0s finished\n"
     ]
    },
    {
     "name": "stdout",
     "output_type": "stream",
     "text": [
      "RandomForest RMSE: 1018.19, R2: 0.6186\n"
     ]
    }
   ],
   "source": [
    "## Random Forest model\n",
    "\n",
    "# Train a RandomForestRegressor on the training data and evaluate on validation set\n",
    "rf_model = RandomForestRegressor(\n",
    "    n_estimators=50,\n",
    "    max_depth=5,\n",
    "    random_state=42,\n",
    "    n_jobs=-1,\n",
    "    verbose=1\n",
    ")\n",
    "rf_model.fit(X_train, y_train)\n",
    "\n",
    "# Predict on validation and test sets\n",
    "rf_val_preds = rf_model.predict(X_val)\n",
    "rf_test_preds = rf_model.predict(X_test)\n",
    "\n",
    "# Validation metrics\n",
    "rf_rmse = mean_squared_error(y_val, rf_val_preds, squared=False)\n",
    "rf_r2 = r2_score(y_val, rf_val_preds)\n",
    "print(f\"RandomForest RMSE: {rf_rmse:.2f}, R2: {rf_r2:.4f}\")\n",
    "\n",
    "# Prepare submission\n",
    "submission_rf = pd.DataFrame({\n",
    "    'Item_Identifier': test['Item_Identifier'],\n",
    "    'Outlet_Identifier': test['Outlet_Identifier'],\n",
    "    'Item_Outlet_Sales': rf_test_preds\n",
    "})\n",
    "submission_rf['Item_Outlet_Sales'].clip(lower=0, inplace=True)\n",
    "submission_rf.to_csv(\"submission_rf.csv\", index=False)"
   ]
  },
  {
   "cell_type": "code",
   "execution_count": 149,
   "id": "fe2ae509",
   "metadata": {},
   "outputs": [],
   "source": [
    "### Catboost Model"
   ]
  },
  {
   "cell_type": "code",
   "execution_count": 150,
   "id": "5815cabc",
   "metadata": {},
   "outputs": [
    {
     "name": "stdout",
     "output_type": "stream",
     "text": [
      "0:\tlearn: 1718.9817306\ttest: 1651.0729299\tbest: 1651.0729299 (0)\ttotal: 2.1ms\tremaining: 10.5s\n",
      "100:\tlearn: 1631.7994338\ttest: 1563.2485336\tbest: 1563.2485336 (100)\ttotal: 250ms\tremaining: 12.1s\n",
      "200:\tlearn: 1554.9240872\ttest: 1485.7195724\tbest: 1485.7195724 (200)\ttotal: 458ms\tremaining: 10.9s\n",
      "300:\tlearn: 1487.9153282\ttest: 1418.1633418\tbest: 1418.1633418 (300)\ttotal: 664ms\tremaining: 10.4s\n",
      "400:\tlearn: 1429.8597756\ttest: 1359.5004487\tbest: 1359.5004487 (400)\ttotal: 888ms\tremaining: 10.2s\n",
      "500:\tlearn: 1379.2317118\ttest: 1308.4019657\tbest: 1308.4019657 (500)\ttotal: 1.11s\tremaining: 9.97s\n",
      "600:\tlearn: 1335.5854362\ttest: 1264.3286106\tbest: 1264.3286106 (600)\ttotal: 1.31s\tremaining: 9.58s\n",
      "700:\tlearn: 1298.1379387\ttest: 1226.5994870\tbest: 1226.5994870 (700)\ttotal: 1.53s\tremaining: 9.36s\n",
      "800:\tlearn: 1265.9013094\ttest: 1194.1821266\tbest: 1194.1821266 (800)\ttotal: 1.73s\tremaining: 9.07s\n",
      "900:\tlearn: 1238.4497783\ttest: 1166.7184484\tbest: 1166.7184484 (900)\ttotal: 1.92s\tremaining: 8.76s\n",
      "1000:\tlearn: 1215.0164244\ttest: 1143.3077892\tbest: 1143.3077892 (1000)\ttotal: 2.13s\tremaining: 8.49s\n",
      "1100:\tlearn: 1194.8445116\ttest: 1123.2407737\tbest: 1123.2407737 (1100)\ttotal: 2.32s\tremaining: 8.23s\n",
      "1200:\tlearn: 1177.6808077\ttest: 1106.2169064\tbest: 1106.2169064 (1200)\ttotal: 2.52s\tremaining: 7.97s\n",
      "1300:\tlearn: 1163.1691997\ttest: 1091.9930343\tbest: 1091.9930343 (1300)\ttotal: 2.71s\tremaining: 7.71s\n",
      "1400:\tlearn: 1150.8732967\ttest: 1080.0024905\tbest: 1080.0024905 (1400)\ttotal: 2.9s\tremaining: 7.45s\n",
      "1500:\tlearn: 1140.2136425\ttest: 1069.6838961\tbest: 1069.6838961 (1500)\ttotal: 3.1s\tremaining: 7.22s\n",
      "1600:\tlearn: 1131.1340238\ttest: 1060.9767189\tbest: 1060.9767189 (1600)\ttotal: 3.31s\tremaining: 7.04s\n",
      "1700:\tlearn: 1123.5571321\ttest: 1053.8397337\tbest: 1053.8397337 (1700)\ttotal: 3.5s\tremaining: 6.8s\n",
      "1800:\tlearn: 1116.9530156\ttest: 1047.7382294\tbest: 1047.7382294 (1800)\ttotal: 3.7s\tremaining: 6.57s\n",
      "1900:\tlearn: 1111.4083754\ttest: 1042.6426600\tbest: 1042.6426600 (1900)\ttotal: 3.89s\tremaining: 6.34s\n",
      "2000:\tlearn: 1106.5819736\ttest: 1038.3188271\tbest: 1038.3188271 (2000)\ttotal: 4.07s\tremaining: 6.1s\n",
      "2100:\tlearn: 1102.3863013\ttest: 1034.7023806\tbest: 1034.7023806 (2100)\ttotal: 4.26s\tremaining: 5.88s\n",
      "2200:\tlearn: 1098.7212324\ttest: 1031.6587361\tbest: 1031.6587361 (2200)\ttotal: 4.45s\tremaining: 5.66s\n",
      "2300:\tlearn: 1095.5051553\ttest: 1029.0740628\tbest: 1029.0740628 (2300)\ttotal: 4.65s\tremaining: 5.45s\n",
      "2400:\tlearn: 1092.7904632\ttest: 1026.9832022\tbest: 1026.9832022 (2400)\ttotal: 4.83s\tremaining: 5.23s\n",
      "2500:\tlearn: 1090.3359700\ttest: 1025.1634759\tbest: 1025.1634759 (2500)\ttotal: 5.03s\tremaining: 5.02s\n",
      "2600:\tlearn: 1088.1775121\ttest: 1023.6360291\tbest: 1023.6360291 (2600)\ttotal: 5.22s\tremaining: 4.81s\n",
      "2700:\tlearn: 1086.2567646\ttest: 1022.3841404\tbest: 1022.3841404 (2700)\ttotal: 5.4s\tremaining: 4.6s\n",
      "2800:\tlearn: 1084.5275561\ttest: 1021.3045751\tbest: 1021.3045751 (2800)\ttotal: 5.59s\tremaining: 4.39s\n",
      "2900:\tlearn: 1082.9723344\ttest: 1020.4127319\tbest: 1020.4127319 (2900)\ttotal: 5.78s\tremaining: 4.18s\n",
      "3000:\tlearn: 1081.5300100\ttest: 1019.6056855\tbest: 1019.6056855 (3000)\ttotal: 5.97s\tremaining: 3.97s\n",
      "3100:\tlearn: 1080.1678833\ttest: 1018.9765146\tbest: 1018.9765146 (3100)\ttotal: 6.17s\tremaining: 3.78s\n",
      "3200:\tlearn: 1078.9114333\ttest: 1018.4486779\tbest: 1018.4486779 (3200)\ttotal: 6.36s\tremaining: 3.57s\n",
      "3300:\tlearn: 1077.7418561\ttest: 1018.0092874\tbest: 1018.0092874 (3300)\ttotal: 6.54s\tremaining: 3.37s\n",
      "3400:\tlearn: 1076.6419693\ttest: 1017.6475182\tbest: 1017.6475182 (3400)\ttotal: 6.73s\tremaining: 3.16s\n",
      "3500:\tlearn: 1075.5881457\ttest: 1017.3388624\tbest: 1017.3388624 (3500)\ttotal: 6.92s\tremaining: 2.96s\n",
      "3600:\tlearn: 1074.5294901\ttest: 1017.1106695\tbest: 1017.1091917 (3594)\ttotal: 7.11s\tremaining: 2.76s\n",
      "3700:\tlearn: 1073.5197012\ttest: 1016.8893133\tbest: 1016.8893133 (3700)\ttotal: 7.29s\tremaining: 2.56s\n",
      "3800:\tlearn: 1072.5285148\ttest: 1016.7790870\tbest: 1016.7786209 (3799)\ttotal: 7.48s\tremaining: 2.36s\n",
      "3900:\tlearn: 1071.6031999\ttest: 1016.6226855\tbest: 1016.6202478 (3898)\ttotal: 7.67s\tremaining: 2.16s\n",
      "4000:\tlearn: 1070.6917382\ttest: 1016.5190155\tbest: 1016.5144654 (3996)\ttotal: 7.86s\tremaining: 1.96s\n",
      "4100:\tlearn: 1069.7695507\ttest: 1016.4537918\tbest: 1016.4385358 (4090)\ttotal: 8.04s\tremaining: 1.76s\n",
      "4200:\tlearn: 1068.7891317\ttest: 1016.3894277\tbest: 1016.3810091 (4192)\ttotal: 8.23s\tremaining: 1.56s\n",
      "4300:\tlearn: 1067.8188540\ttest: 1016.3598269\tbest: 1016.3546668 (4288)\ttotal: 8.42s\tremaining: 1.37s\n",
      "4400:\tlearn: 1066.9416941\ttest: 1016.3192648\tbest: 1016.3192648 (4400)\ttotal: 8.61s\tremaining: 1.17s\n",
      "4500:\tlearn: 1066.0969413\ttest: 1016.3251875\tbest: 1016.3159973 (4459)\ttotal: 8.81s\tremaining: 977ms\n",
      "4600:\tlearn: 1065.1908026\ttest: 1016.3025133\tbest: 1016.2814173 (4563)\ttotal: 9s\tremaining: 781ms\n",
      "4700:\tlearn: 1064.4071820\ttest: 1016.3422442\tbest: 1016.2814173 (4563)\ttotal: 9.19s\tremaining: 584ms\n",
      "4800:\tlearn: 1063.5665619\ttest: 1016.4047828\tbest: 1016.2814173 (4563)\ttotal: 9.44s\tremaining: 391ms\n",
      "4900:\tlearn: 1062.7563886\ttest: 1016.3924521\tbest: 1016.2814173 (4563)\ttotal: 9.63s\tremaining: 194ms\n",
      "4999:\tlearn: 1061.9652037\ttest: 1016.3998874\tbest: 1016.2814173 (4563)\ttotal: 9.81s\tremaining: 0us\n",
      "\n",
      "bestTest = 1016.281417\n",
      "bestIteration = 4563\n",
      "\n",
      "Shrink model to first 4564 iterations.\n"
     ]
    }
   ],
   "source": [
    "from catboost import CatBoostRegressor, Pool\n",
    "# Create CatBoost Pools\n",
    "train_pool = Pool(X_train, y_train)\n",
    "val_pool = Pool(X_val, y_val)\n",
    "model = CatBoostRegressor(\n",
    "    iterations=5000,\n",
    "    learning_rate=0.001,\n",
    "    depth=6,\n",
    "    eval_metric='RMSE',\n",
    "    random_seed=42,\n",
    "    verbose=100  # Print training progress every 100 iterations\n",
    ")\n",
    "\n",
    "# Fit the model\n",
    "model.fit(X_train, y_train, eval_set=val_pool)\n",
    "test_preds = model.predict(X_test).flatten()\n",
    "submission = pd.DataFrame({\n",
    "    'Item_Identifier': test['Item_Identifier'],\n",
    "    'Outlet_Identifier': test['Outlet_Identifier'],\n",
    "    'Item_Outlet_Sales': test_preds\n",
    "})\n",
    "submission['Item_Outlet_Sales'].clip(lower=0, inplace=True)\n",
    "submission.to_csv(\"submission_catboost.csv\", index=False)"
   ]
  },
  {
   "cell_type": "code",
   "execution_count": null,
   "id": "49d650bd",
   "metadata": {},
   "outputs": [],
   "source": [
    "\n"
   ]
  },
  {
   "cell_type": "code",
   "execution_count": 108,
   "id": "c6b35b80",
   "metadata": {},
   "outputs": [
    {
     "name": "stdout",
     "output_type": "stream",
     "text": [
      "[0]\tvalidation_0-rmse:1650.97069\n",
      "[100]\tvalidation_0-rmse:1555.89780\n",
      "[200]\tvalidation_0-rmse:1473.59008\n",
      "[300]\tvalidation_0-rmse:1402.66542\n",
      "[400]\tvalidation_0-rmse:1341.63876\n",
      "[500]\tvalidation_0-rmse:1289.20174\n",
      "[600]\tvalidation_0-rmse:1244.77575\n",
      "[700]\tvalidation_0-rmse:1207.79105\n",
      "[800]\tvalidation_0-rmse:1176.85464\n",
      "[900]\tvalidation_0-rmse:1151.05860\n",
      "[1000]\tvalidation_0-rmse:1129.67957\n",
      "[1100]\tvalidation_0-rmse:1112.02809\n",
      "[1200]\tvalidation_0-rmse:1097.64828\n",
      "[1300]\tvalidation_0-rmse:1085.61397\n",
      "[1400]\tvalidation_0-rmse:1075.59098\n",
      "[1500]\tvalidation_0-rmse:1067.47311\n",
      "[1600]\tvalidation_0-rmse:1060.65111\n",
      "[1700]\tvalidation_0-rmse:1055.39793\n",
      "[1800]\tvalidation_0-rmse:1051.63018\n",
      "[1900]\tvalidation_0-rmse:1048.13483\n",
      "[2000]\tvalidation_0-rmse:1044.90851\n",
      "[2100]\tvalidation_0-rmse:1042.70119\n",
      "[2200]\tvalidation_0-rmse:1041.08383\n",
      "[2300]\tvalidation_0-rmse:1040.10410\n",
      "[2400]\tvalidation_0-rmse:1039.40685\n",
      "[2500]\tvalidation_0-rmse:1038.71315\n",
      "[2600]\tvalidation_0-rmse:1038.32022\n",
      "[2651]\tvalidation_0-rmse:1038.39049\n"
     ]
    }
   ],
   "source": [
    "# XGBoost Model\n",
    "xgb_model = XGBRegressor(\n",
    "    n_estimators=5000,\n",
    "    learning_rate=0.001,\n",
    "    max_depth=6,\n",
    "    random_state=42,\n",
    "    n_jobs=-1,\n",
    "    verbosity=1,\n",
    "    early_stopping_rounds=50,\n",
    "\n",
    ")\n",
    "\n",
    "xgb_model.fit(X_train, y_train, \n",
    "              eval_set=[(X_val, y_val)], \n",
    "              verbose=100)\n",
    "\n",
    "# Predict on test set\n",
    "xgb_test_preds = xgb_model.predict(X_test)\n",
    "submission_xgb = pd.DataFrame({\n",
    "    'Item_Identifier': test['Item_Identifier'],\n",
    "    'Outlet_Identifier': test['Outlet_Identifier'],\n",
    "    'Item_Outlet_Sales': xgb_test_preds\n",
    "})\n",
    "submission_xgb['Item_Outlet_Sales'].clip(lower=0, inplace=True)\n",
    "submission_xgb.to_csv(\"submission_xgb.csv\", index=False)"
   ]
  },
  {
   "cell_type": "code",
   "execution_count": 107,
   "id": "b82144a8",
   "metadata": {},
   "outputs": [],
   "source": [
    "import lightgbm as lgb\n",
    "\n",
    "# Prepare LightGBM datasets\n",
    "lgb_train = lgb.Dataset(X_train, y_train)\n",
    "lgb_val = lgb.Dataset(X_val, y_val, reference=lgb_train)\n",
    "\n",
    "# Set parameters\n",
    "params = {\n",
    "    'objective': 'regression',\n",
    "    'metric': 'rmse',\n",
    "    'learning_rate': 0.01,\n",
    "    'num_leaves': 31,\n",
    "    'max_depth': 6,\n",
    "    'random_state': 42,\n",
    "    'verbosity': -1\n",
    "}\n",
    "\n",
    "# Train the model\n",
    "lgb_model = lgb.train(\n",
    "    params,\n",
    "    lgb_train,\n",
    "    num_boost_round=5000,\n",
    "    valid_sets=[lgb_train, lgb_val],\n",
    "    valid_names=['train', 'valid'],\n",
    "    # early_stopping_rounds=50,\n",
    "    # verbose_eval=100\n",
    ")\n",
    "\n",
    "# Predict on test set\n",
    "lgb_test_preds = lgb_model.predict(X_test, num_iteration=lgb_model.best_iteration)\n",
    "submission_lgb = pd.DataFrame({\n",
    "    'Item_Identifier': test['Item_Identifier'],\n",
    "    'Outlet_Identifier': test['Outlet_Identifier'],\n",
    "    'Item_Outlet_Sales': lgb_test_preds\n",
    "})\n",
    "submission_lgb['Item_Outlet_Sales'].clip(lower=0, inplace=True)\n",
    "submission_lgb.to_csv(\"submission_lgb.csv\", index=False)"
   ]
  },
  {
   "cell_type": "code",
   "execution_count": 112,
   "id": "9631396d",
   "metadata": {},
   "outputs": [
    {
     "name": "stderr",
     "output_type": "stream",
     "text": [
      "[Parallel(n_jobs=-1)]: Using backend ThreadingBackend with 6 concurrent workers.\n",
      "[Parallel(n_jobs=-1)]: Done  38 tasks      | elapsed:    0.1s\n"
     ]
    },
    {
     "name": "stdout",
     "output_type": "stream",
     "text": [
      "RandomForest RMSE: 1031.95, R2: 0.6082\n"
     ]
    },
    {
     "name": "stderr",
     "output_type": "stream",
     "text": [
      "[Parallel(n_jobs=-1)]: Done 188 tasks      | elapsed:    0.9s\n",
      "[Parallel(n_jobs=-1)]: Done 200 out of 200 | elapsed:    1.0s finished\n",
      "[Parallel(n_jobs=6)]: Using backend ThreadingBackend with 6 concurrent workers.\n",
      "[Parallel(n_jobs=6)]: Done  38 tasks      | elapsed:    0.0s\n",
      "[Parallel(n_jobs=6)]: Done 188 tasks      | elapsed:    0.0s\n",
      "[Parallel(n_jobs=6)]: Done 200 out of 200 | elapsed:    0.0s finished\n",
      "[Parallel(n_jobs=6)]: Using backend ThreadingBackend with 6 concurrent workers.\n",
      "[Parallel(n_jobs=6)]: Done  38 tasks      | elapsed:    0.0s\n",
      "[Parallel(n_jobs=6)]: Done 188 tasks      | elapsed:    0.0s\n",
      "[Parallel(n_jobs=6)]: Done 200 out of 200 | elapsed:    0.0s finished\n"
     ]
    }
   ],
   "source": [
    "# Train a RandomForestRegressor on the training data and evaluate on validation set\n",
    "rf_model = RandomForestRegressor(\n",
    "    n_estimators=200,\n",
    "    max_depth=10,\n",
    "    random_state=42,\n",
    "    n_jobs=-1,\n",
    "    verbose=1\n",
    ")\n",
    "rf_model.fit(X_train, y_train)\n",
    "\n",
    "# Predict on validation and test sets\n",
    "rf_val_preds = rf_model.predict(X_val)\n",
    "rf_test_preds = rf_model.predict(X_test)\n",
    "\n",
    "# Validation metrics\n",
    "rf_rmse = mean_squared_error(y_val, rf_val_preds, squared=False)\n",
    "rf_r2 = r2_score(y_val, rf_val_preds)\n",
    "print(f\"RandomForest RMSE: {rf_rmse:.2f}, R2: {rf_r2:.4f}\")\n",
    "\n",
    "# Prepare submission\n",
    "submission_rf = pd.DataFrame({\n",
    "    'Item_Identifier': test['Item_Identifier'],\n",
    "    'Outlet_Identifier': test['Outlet_Identifier'],\n",
    "    'Item_Outlet_Sales': rf_test_preds\n",
    "})\n",
    "submission_rf['Item_Outlet_Sales'].clip(lower=0, inplace=True)\n",
    "submission_rf.to_csv(\"submission_rf.csv\", index=False)"
   ]
  },
  {
   "cell_type": "code",
   "execution_count": 120,
   "id": "a568ab7a",
   "metadata": {},
   "outputs": [],
   "source": [
    "aan_prediction = pd.read_csv(\"submission_ann.csv\")\n",
    "catboost_prediction = pd.read_csv(\"submission_catboost.csv\")\n",
    "submission_combined = catboost_prediction.copy()\n",
    "frac =  0.2 # Adjust this value as needed for blending\n",
    "submission_combined['Item_Outlet_Sales'] = catboost_prediction['Item_Outlet_Sales']*frac + aan_prediction['Item_Outlet_Sales']*(1-frac)  "
   ]
  },
  {
   "cell_type": "code",
   "execution_count": 127,
   "id": "12f3c214",
   "metadata": {},
   "outputs": [],
   "source": [
    "submission_combined.to_csv(\"submission_combined.csv\", index=False)"
   ]
  },
  {
   "cell_type": "code",
   "execution_count": null,
   "id": "02b6965a",
   "metadata": {},
   "outputs": [],
   "source": []
  }
 ],
 "metadata": {
  "kernelspec": {
   "display_name": "base",
   "language": "python",
   "name": "python3"
  },
  "language_info": {
   "codemirror_mode": {
    "name": "ipython",
    "version": 3
   },
   "file_extension": ".py",
   "mimetype": "text/x-python",
   "name": "python",
   "nbconvert_exporter": "python",
   "pygments_lexer": "ipython3",
   "version": "3.11.7"
  }
 },
 "nbformat": 4,
 "nbformat_minor": 5
}
